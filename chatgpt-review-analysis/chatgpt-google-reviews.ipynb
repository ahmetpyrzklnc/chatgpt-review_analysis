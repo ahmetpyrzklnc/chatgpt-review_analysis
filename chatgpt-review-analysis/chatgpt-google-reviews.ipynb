{
 "cells": [
  {
   "cell_type": "markdown",
   "id": "cbfdf1b0",
   "metadata": {
    "papermill": {
     "duration": 0.01839,
     "end_time": "2024-07-30T21:36:01.254213",
     "exception": false,
     "start_time": "2024-07-30T21:36:01.235823",
     "status": "completed"
    },
    "tags": []
   },
   "source": [
    "### ChatGPT Google Reviews Analysis"
   ]
  },
  {
   "cell_type": "markdown",
   "id": "fc362fb2",
   "metadata": {
    "papermill": {
     "duration": 0.017081,
     "end_time": "2024-07-30T21:36:01.288390",
     "exception": false,
     "start_time": "2024-07-30T21:36:01.271309",
     "status": "completed"
    },
    "tags": []
   },
   "source": [
    "#### *Import Libraries*"
   ]
  },
  {
   "cell_type": "code",
   "execution_count": 1,
   "id": "fbf4a07a",
   "metadata": {
    "execution": {
     "iopub.execute_input": "2024-07-30T21:36:01.323957Z",
     "iopub.status.busy": "2024-07-30T21:36:01.323575Z",
     "iopub.status.idle": "2024-07-30T21:36:18.701763Z",
     "shell.execute_reply": "2024-07-30T21:36:18.700205Z"
    },
    "papermill": {
     "duration": 17.398827,
     "end_time": "2024-07-30T21:36:18.704738",
     "exception": false,
     "start_time": "2024-07-30T21:36:01.305911",
     "status": "completed"
    },
    "tags": []
   },
   "outputs": [
    {
     "name": "stderr",
     "output_type": "stream",
     "text": [
      "2024-07-30 21:36:06.167826: E external/local_xla/xla/stream_executor/cuda/cuda_dnn.cc:9261] Unable to register cuDNN factory: Attempting to register factory for plugin cuDNN when one has already been registered\n",
      "2024-07-30 21:36:06.167985: E external/local_xla/xla/stream_executor/cuda/cuda_fft.cc:607] Unable to register cuFFT factory: Attempting to register factory for plugin cuFFT when one has already been registered\n",
      "2024-07-30 21:36:06.339686: E external/local_xla/xla/stream_executor/cuda/cuda_blas.cc:1515] Unable to register cuBLAS factory: Attempting to register factory for plugin cuBLAS when one has already been registered\n"
     ]
    }
   ],
   "source": [
    "import pandas as pd\n",
    "import matplotlib.pyplot as plt\n",
    "import seaborn as sns\n",
    "import re\n",
    "from tensorflow.keras.preprocessing.text import Tokenizer\n",
    "from sklearn.feature_extraction.text import CountVectorizer\n",
    "from sklearn.ensemble import RandomForestClassifier\n",
    "from sklearn.tree import DecisionTreeClassifier\n",
    "from sklearn.metrics import classification_report\n",
    "from sklearn.model_selection import train_test_split\n",
    "from sklearn.metrics import confusion_matrix, ConfusionMatrixDisplay\n",
    "from sklearn.preprocessing import MinMaxScaler, LabelEncoder, OrdinalEncoder\n",
    "from sklearn.neighbors import KNeighborsClassifier\n",
    "from sklearn.svm import SVC\n",
    "from sklearn.model_selection import GridSearchCV"
   ]
  },
  {
   "cell_type": "markdown",
   "id": "68b8667a",
   "metadata": {
    "papermill": {
     "duration": 0.017191,
     "end_time": "2024-07-30T21:36:18.739127",
     "exception": false,
     "start_time": "2024-07-30T21:36:18.721936",
     "status": "completed"
    },
    "tags": []
   },
   "source": [
    "#### *Import data*"
   ]
  },
  {
   "cell_type": "code",
   "execution_count": 2,
   "id": "cec3a2a0",
   "metadata": {
    "execution": {
     "iopub.execute_input": "2024-07-30T21:36:18.774372Z",
     "iopub.status.busy": "2024-07-30T21:36:18.773720Z",
     "iopub.status.idle": "2024-07-30T21:36:20.064365Z",
     "shell.execute_reply": "2024-07-30T21:36:20.063335Z"
    },
    "papermill": {
     "duration": 1.311108,
     "end_time": "2024-07-30T21:36:20.066821",
     "exception": false,
     "start_time": "2024-07-30T21:36:18.755713",
     "status": "completed"
    },
    "tags": []
   },
   "outputs": [],
   "source": [
    "dx = pd.read_csv('/kaggle/input/chatgpt-reviews-daily-updated/chatgpt_reviews.csv')"
   ]
  },
  {
   "cell_type": "code",
   "execution_count": 3,
   "id": "984573f9",
   "metadata": {
    "execution": {
     "iopub.execute_input": "2024-07-30T21:36:20.102428Z",
     "iopub.status.busy": "2024-07-30T21:36:20.102017Z",
     "iopub.status.idle": "2024-07-30T21:36:20.125675Z",
     "shell.execute_reply": "2024-07-30T21:36:20.124471Z"
    },
    "papermill": {
     "duration": 0.044173,
     "end_time": "2024-07-30T21:36:20.128158",
     "exception": false,
     "start_time": "2024-07-30T21:36:20.083985",
     "status": "completed"
    },
    "tags": []
   },
   "outputs": [
    {
     "data": {
      "text/html": [
       "<div>\n",
       "<style scoped>\n",
       "    .dataframe tbody tr th:only-of-type {\n",
       "        vertical-align: middle;\n",
       "    }\n",
       "\n",
       "    .dataframe tbody tr th {\n",
       "        vertical-align: top;\n",
       "    }\n",
       "\n",
       "    .dataframe thead th {\n",
       "        text-align: right;\n",
       "    }\n",
       "</style>\n",
       "<table border=\"1\" class=\"dataframe\">\n",
       "  <thead>\n",
       "    <tr style=\"text-align: right;\">\n",
       "      <th></th>\n",
       "      <th>reviewId</th>\n",
       "      <th>userName</th>\n",
       "      <th>content</th>\n",
       "      <th>score</th>\n",
       "      <th>thumbsUpCount</th>\n",
       "      <th>reviewCreatedVersion</th>\n",
       "      <th>at</th>\n",
       "      <th>appVersion</th>\n",
       "    </tr>\n",
       "  </thead>\n",
       "  <tbody>\n",
       "    <tr>\n",
       "      <th>0</th>\n",
       "      <td>922809e7-99d7-4bd9-a785-7d2afee46152</td>\n",
       "      <td>Oluwadamifunre Ilori</td>\n",
       "      <td>good but try to simplify because of junior stu...</td>\n",
       "      <td>5</td>\n",
       "      <td>0</td>\n",
       "      <td>1.2024.206</td>\n",
       "      <td>2024-07-29 20:03:34</td>\n",
       "      <td>1.2024.206</td>\n",
       "    </tr>\n",
       "    <tr>\n",
       "      <th>1</th>\n",
       "      <td>b9308165-7340-4bd5-8600-263bc704c891</td>\n",
       "      <td>M. Kay</td>\n",
       "      <td>Is very political. It suppresses information. ...</td>\n",
       "      <td>2</td>\n",
       "      <td>0</td>\n",
       "      <td>1.2024.206</td>\n",
       "      <td>2024-07-29 20:02:32</td>\n",
       "      <td>1.2024.206</td>\n",
       "    </tr>\n",
       "    <tr>\n",
       "      <th>2</th>\n",
       "      <td>61f79aa1-991e-4a6d-8805-8c8462ef4a3f</td>\n",
       "      <td>Kutiski Edits</td>\n",
       "      <td>i love it</td>\n",
       "      <td>5</td>\n",
       "      <td>0</td>\n",
       "      <td>1.2024.206</td>\n",
       "      <td>2024-07-29 20:01:29</td>\n",
       "      <td>1.2024.206</td>\n",
       "    </tr>\n",
       "    <tr>\n",
       "      <th>3</th>\n",
       "      <td>48e6d479-d719-4a20-9559-c807336b904a</td>\n",
       "      <td>Saalim</td>\n",
       "      <td>Cool but so laggy also add update of image pro...</td>\n",
       "      <td>3</td>\n",
       "      <td>0</td>\n",
       "      <td>1.2024.206</td>\n",
       "      <td>2024-07-29 19:59:43</td>\n",
       "      <td>1.2024.206</td>\n",
       "    </tr>\n",
       "    <tr>\n",
       "      <th>4</th>\n",
       "      <td>2c8520b8-9ff1-426c-95f4-d80eac2268b6</td>\n",
       "      <td>Deepak Shahu</td>\n",
       "      <td>nice source of knowledge</td>\n",
       "      <td>1</td>\n",
       "      <td>0</td>\n",
       "      <td>1.2024.198</td>\n",
       "      <td>2024-07-29 19:56:09</td>\n",
       "      <td>1.2024.198</td>\n",
       "    </tr>\n",
       "  </tbody>\n",
       "</table>\n",
       "</div>"
      ],
      "text/plain": [
       "                               reviewId              userName  \\\n",
       "0  922809e7-99d7-4bd9-a785-7d2afee46152  Oluwadamifunre Ilori   \n",
       "1  b9308165-7340-4bd5-8600-263bc704c891                M. Kay   \n",
       "2  61f79aa1-991e-4a6d-8805-8c8462ef4a3f         Kutiski Edits   \n",
       "3  48e6d479-d719-4a20-9559-c807336b904a                Saalim   \n",
       "4  2c8520b8-9ff1-426c-95f4-d80eac2268b6          Deepak Shahu   \n",
       "\n",
       "                                             content  score  thumbsUpCount  \\\n",
       "0  good but try to simplify because of junior stu...      5              0   \n",
       "1  Is very political. It suppresses information. ...      2              0   \n",
       "2                                          i love it      5              0   \n",
       "3  Cool but so laggy also add update of image pro...      3              0   \n",
       "4                           nice source of knowledge      1              0   \n",
       "\n",
       "  reviewCreatedVersion                   at  appVersion  \n",
       "0           1.2024.206  2024-07-29 20:03:34  1.2024.206  \n",
       "1           1.2024.206  2024-07-29 20:02:32  1.2024.206  \n",
       "2           1.2024.206  2024-07-29 20:01:29  1.2024.206  \n",
       "3           1.2024.206  2024-07-29 19:59:43  1.2024.206  \n",
       "4           1.2024.198  2024-07-29 19:56:09  1.2024.198  "
      ]
     },
     "execution_count": 3,
     "metadata": {},
     "output_type": "execute_result"
    }
   ],
   "source": [
    "dx.head()"
   ]
  },
  {
   "cell_type": "code",
   "execution_count": 4,
   "id": "bb7dc8d1",
   "metadata": {
    "execution": {
     "iopub.execute_input": "2024-07-30T21:36:20.165378Z",
     "iopub.status.busy": "2024-07-30T21:36:20.164983Z",
     "iopub.status.idle": "2024-07-30T21:36:20.174579Z",
     "shell.execute_reply": "2024-07-30T21:36:20.173371Z"
    },
    "papermill": {
     "duration": 0.031659,
     "end_time": "2024-07-30T21:36:20.176921",
     "exception": false,
     "start_time": "2024-07-30T21:36:20.145262",
     "status": "completed"
    },
    "tags": []
   },
   "outputs": [
    {
     "data": {
      "text/plain": [
       "1398392"
      ]
     },
     "execution_count": 4,
     "metadata": {},
     "output_type": "execute_result"
    }
   ],
   "source": [
    "dx.size"
   ]
  },
  {
   "cell_type": "code",
   "execution_count": 5,
   "id": "3f446658",
   "metadata": {
    "execution": {
     "iopub.execute_input": "2024-07-30T21:36:20.212449Z",
     "iopub.status.busy": "2024-07-30T21:36:20.212089Z",
     "iopub.status.idle": "2024-07-30T21:36:20.242765Z",
     "shell.execute_reply": "2024-07-30T21:36:20.241703Z"
    },
    "papermill": {
     "duration": 0.051485,
     "end_time": "2024-07-30T21:36:20.245335",
     "exception": false,
     "start_time": "2024-07-30T21:36:20.193850",
     "status": "completed"
    },
    "tags": []
   },
   "outputs": [
    {
     "data": {
      "text/html": [
       "<div>\n",
       "<style scoped>\n",
       "    .dataframe tbody tr th:only-of-type {\n",
       "        vertical-align: middle;\n",
       "    }\n",
       "\n",
       "    .dataframe tbody tr th {\n",
       "        vertical-align: top;\n",
       "    }\n",
       "\n",
       "    .dataframe thead th {\n",
       "        text-align: right;\n",
       "    }\n",
       "</style>\n",
       "<table border=\"1\" class=\"dataframe\">\n",
       "  <thead>\n",
       "    <tr style=\"text-align: right;\">\n",
       "      <th></th>\n",
       "      <th>reviewId</th>\n",
       "      <th>userName</th>\n",
       "      <th>content</th>\n",
       "      <th>score</th>\n",
       "      <th>thumbsUpCount</th>\n",
       "      <th>reviewCreatedVersion</th>\n",
       "      <th>at</th>\n",
       "      <th>appVersion</th>\n",
       "    </tr>\n",
       "  </thead>\n",
       "  <tbody>\n",
       "    <tr>\n",
       "      <th>147070</th>\n",
       "      <td>cd28b0ed-2ef1-4619-9c02-b4f1e08053c4</td>\n",
       "      <td>zionheart reyesbuenafe</td>\n",
       "      <td>nagmayat okinnana dabest</td>\n",
       "      <td>5</td>\n",
       "      <td>0</td>\n",
       "      <td>1.2024.073</td>\n",
       "      <td>2024-03-25 10:58:32</td>\n",
       "      <td>1.2024.073</td>\n",
       "    </tr>\n",
       "    <tr>\n",
       "      <th>111022</th>\n",
       "      <td>f14049b5-8cd6-4225-99a9-1dcc9d79e274</td>\n",
       "      <td>Shahid Processors</td>\n",
       "      <td>It's a nice app for debate and essay and whate...</td>\n",
       "      <td>5</td>\n",
       "      <td>0</td>\n",
       "      <td>1.2023.263</td>\n",
       "      <td>2023-10-06 15:03:30</td>\n",
       "      <td>1.2023.263</td>\n",
       "    </tr>\n",
       "    <tr>\n",
       "      <th>97583</th>\n",
       "      <td>19d31cbe-f981-47f3-a552-88471f521329</td>\n",
       "      <td>Albin Gaming</td>\n",
       "      <td>I love this app it's so good legit the best an...</td>\n",
       "      <td>5</td>\n",
       "      <td>0</td>\n",
       "      <td>1.0.0039</td>\n",
       "      <td>2023-09-05 14:05:20</td>\n",
       "      <td>1.0.0039</td>\n",
       "    </tr>\n",
       "    <tr>\n",
       "      <th>19429</th>\n",
       "      <td>6b230933-2f4f-4e3b-b27b-2870568dffa8</td>\n",
       "      <td>sedik lmbo</td>\n",
       "      <td>🥰😘Amazing application Thank you for this amazi...</td>\n",
       "      <td>5</td>\n",
       "      <td>0</td>\n",
       "      <td>1.2024.170</td>\n",
       "      <td>2024-07-05 09:58:31</td>\n",
       "      <td>1.2024.170</td>\n",
       "    </tr>\n",
       "    <tr>\n",
       "      <th>168312</th>\n",
       "      <td>9106eec5-cacd-47a6-a5de-b23d3481b895</td>\n",
       "      <td>Godwin Obozuwa</td>\n",
       "      <td>Not opening</td>\n",
       "      <td>1</td>\n",
       "      <td>0</td>\n",
       "      <td>1.0.0032</td>\n",
       "      <td>2023-08-12 09:17:18</td>\n",
       "      <td>1.0.0032</td>\n",
       "    </tr>\n",
       "  </tbody>\n",
       "</table>\n",
       "</div>"
      ],
      "text/plain": [
       "                                    reviewId                userName  \\\n",
       "147070  cd28b0ed-2ef1-4619-9c02-b4f1e08053c4  zionheart reyesbuenafe   \n",
       "111022  f14049b5-8cd6-4225-99a9-1dcc9d79e274       Shahid Processors   \n",
       "97583   19d31cbe-f981-47f3-a552-88471f521329            Albin Gaming   \n",
       "19429   6b230933-2f4f-4e3b-b27b-2870568dffa8              sedik lmbo   \n",
       "168312  9106eec5-cacd-47a6-a5de-b23d3481b895          Godwin Obozuwa   \n",
       "\n",
       "                                                  content  score  \\\n",
       "147070                           nagmayat okinnana dabest      5   \n",
       "111022  It's a nice app for debate and essay and whate...      5   \n",
       "97583   I love this app it's so good legit the best an...      5   \n",
       "19429   🥰😘Amazing application Thank you for this amazi...      5   \n",
       "168312                                        Not opening      1   \n",
       "\n",
       "        thumbsUpCount reviewCreatedVersion                   at  appVersion  \n",
       "147070              0           1.2024.073  2024-03-25 10:58:32  1.2024.073  \n",
       "111022              0           1.2023.263  2023-10-06 15:03:30  1.2023.263  \n",
       "97583               0             1.0.0039  2023-09-05 14:05:20    1.0.0039  \n",
       "19429               0           1.2024.170  2024-07-05 09:58:31  1.2024.170  \n",
       "168312              0             1.0.0032  2023-08-12 09:17:18    1.0.0032  "
      ]
     },
     "execution_count": 5,
     "metadata": {},
     "output_type": "execute_result"
    }
   ],
   "source": [
    "df = dx.sample(10000)\n",
    "df.head()"
   ]
  },
  {
   "cell_type": "code",
   "execution_count": 6,
   "id": "6c1c0d22",
   "metadata": {
    "execution": {
     "iopub.execute_input": "2024-07-30T21:36:20.281622Z",
     "iopub.status.busy": "2024-07-30T21:36:20.281205Z",
     "iopub.status.idle": "2024-07-30T21:36:20.287582Z",
     "shell.execute_reply": "2024-07-30T21:36:20.286461Z"
    },
    "papermill": {
     "duration": 0.027336,
     "end_time": "2024-07-30T21:36:20.289953",
     "exception": false,
     "start_time": "2024-07-30T21:36:20.262617",
     "status": "completed"
    },
    "tags": []
   },
   "outputs": [],
   "source": [
    "df.rename(columns = {\n",
    "    'reviewId' : 'review_id',\n",
    "    'userName' : 'user_name',\n",
    "    'thumbsUpCount' : 'thumbs_up_count',\n",
    "    'reviewCreatedVersion' : 'review_created_version',\n",
    "    'appVersion' : 'app_version'\n",
    "    \n",
    "}, inplace = True)"
   ]
  },
  {
   "cell_type": "code",
   "execution_count": 7,
   "id": "68823541",
   "metadata": {
    "execution": {
     "iopub.execute_input": "2024-07-30T21:36:20.328709Z",
     "iopub.status.busy": "2024-07-30T21:36:20.328312Z",
     "iopub.status.idle": "2024-07-30T21:36:20.335234Z",
     "shell.execute_reply": "2024-07-30T21:36:20.333977Z"
    },
    "papermill": {
     "duration": 0.027749,
     "end_time": "2024-07-30T21:36:20.337440",
     "exception": false,
     "start_time": "2024-07-30T21:36:20.309691",
     "status": "completed"
    },
    "tags": []
   },
   "outputs": [
    {
     "data": {
      "text/plain": [
       "Index(['review_id', 'user_name', 'content', 'score', 'thumbs_up_count',\n",
       "       'review_created_version', 'at', 'app_version'],\n",
       "      dtype='object')"
      ]
     },
     "execution_count": 7,
     "metadata": {},
     "output_type": "execute_result"
    }
   ],
   "source": [
    "df.columns"
   ]
  },
  {
   "cell_type": "code",
   "execution_count": 8,
   "id": "0e0f6b86",
   "metadata": {
    "execution": {
     "iopub.execute_input": "2024-07-30T21:36:20.378037Z",
     "iopub.status.busy": "2024-07-30T21:36:20.377616Z",
     "iopub.status.idle": "2024-07-30T21:36:20.384888Z",
     "shell.execute_reply": "2024-07-30T21:36:20.383570Z"
    },
    "papermill": {
     "duration": 0.031899,
     "end_time": "2024-07-30T21:36:20.387308",
     "exception": false,
     "start_time": "2024-07-30T21:36:20.355409",
     "status": "completed"
    },
    "tags": []
   },
   "outputs": [
    {
     "data": {
      "text/plain": [
       "(10000, 8)"
      ]
     },
     "execution_count": 8,
     "metadata": {},
     "output_type": "execute_result"
    }
   ],
   "source": [
    "df.shape"
   ]
  },
  {
   "cell_type": "code",
   "execution_count": 9,
   "id": "05f193ff",
   "metadata": {
    "execution": {
     "iopub.execute_input": "2024-07-30T21:36:20.426326Z",
     "iopub.status.busy": "2024-07-30T21:36:20.425929Z",
     "iopub.status.idle": "2024-07-30T21:36:20.458446Z",
     "shell.execute_reply": "2024-07-30T21:36:20.456439Z"
    },
    "papermill": {
     "duration": 0.055444,
     "end_time": "2024-07-30T21:36:20.461602",
     "exception": false,
     "start_time": "2024-07-30T21:36:20.406158",
     "status": "completed"
    },
    "tags": []
   },
   "outputs": [
    {
     "name": "stdout",
     "output_type": "stream",
     "text": [
      "<class 'pandas.core.frame.DataFrame'>\n",
      "Index: 10000 entries, 147070 to 35355\n",
      "Data columns (total 8 columns):\n",
      " #   Column                  Non-Null Count  Dtype \n",
      "---  ------                  --------------  ----- \n",
      " 0   review_id               10000 non-null  object\n",
      " 1   user_name               10000 non-null  object\n",
      " 2   content                 9999 non-null   object\n",
      " 3   score                   10000 non-null  int64 \n",
      " 4   thumbs_up_count         10000 non-null  int64 \n",
      " 5   review_created_version  9213 non-null   object\n",
      " 6   at                      10000 non-null  object\n",
      " 7   app_version             9213 non-null   object\n",
      "dtypes: int64(2), object(6)\n",
      "memory usage: 703.1+ KB\n"
     ]
    }
   ],
   "source": [
    "df.info()"
   ]
  },
  {
   "cell_type": "code",
   "execution_count": 10,
   "id": "a75e1acc",
   "metadata": {
    "execution": {
     "iopub.execute_input": "2024-07-30T21:36:20.498781Z",
     "iopub.status.busy": "2024-07-30T21:36:20.498380Z",
     "iopub.status.idle": "2024-07-30T21:36:20.513678Z",
     "shell.execute_reply": "2024-07-30T21:36:20.512563Z"
    },
    "papermill": {
     "duration": 0.036449,
     "end_time": "2024-07-30T21:36:20.515977",
     "exception": false,
     "start_time": "2024-07-30T21:36:20.479528",
     "status": "completed"
    },
    "tags": []
   },
   "outputs": [
    {
     "data": {
      "text/plain": [
       "review_id                   0\n",
       "user_name                   0\n",
       "content                     1\n",
       "score                       0\n",
       "thumbs_up_count             0\n",
       "review_created_version    787\n",
       "at                          0\n",
       "app_version               787\n",
       "dtype: int64"
      ]
     },
     "execution_count": 10,
     "metadata": {},
     "output_type": "execute_result"
    }
   ],
   "source": [
    "df.isnull().sum()"
   ]
  },
  {
   "cell_type": "code",
   "execution_count": 11,
   "id": "33949903",
   "metadata": {
    "execution": {
     "iopub.execute_input": "2024-07-30T21:36:20.553112Z",
     "iopub.status.busy": "2024-07-30T21:36:20.552726Z",
     "iopub.status.idle": "2024-07-30T21:36:20.578141Z",
     "shell.execute_reply": "2024-07-30T21:36:20.576802Z"
    },
    "papermill": {
     "duration": 0.046788,
     "end_time": "2024-07-30T21:36:20.580564",
     "exception": false,
     "start_time": "2024-07-30T21:36:20.533776",
     "status": "completed"
    },
    "tags": []
   },
   "outputs": [
    {
     "data": {
      "text/html": [
       "<div>\n",
       "<style scoped>\n",
       "    .dataframe tbody tr th:only-of-type {\n",
       "        vertical-align: middle;\n",
       "    }\n",
       "\n",
       "    .dataframe tbody tr th {\n",
       "        vertical-align: top;\n",
       "    }\n",
       "\n",
       "    .dataframe thead th {\n",
       "        text-align: right;\n",
       "    }\n",
       "</style>\n",
       "<table border=\"1\" class=\"dataframe\">\n",
       "  <thead>\n",
       "    <tr style=\"text-align: right;\">\n",
       "      <th></th>\n",
       "      <th>count</th>\n",
       "      <th>mean</th>\n",
       "      <th>std</th>\n",
       "      <th>min</th>\n",
       "      <th>25%</th>\n",
       "      <th>50%</th>\n",
       "      <th>75%</th>\n",
       "      <th>max</th>\n",
       "    </tr>\n",
       "  </thead>\n",
       "  <tbody>\n",
       "    <tr>\n",
       "      <th>score</th>\n",
       "      <td>10000.0</td>\n",
       "      <td>4.4944</td>\n",
       "      <td>1.106025</td>\n",
       "      <td>1.0</td>\n",
       "      <td>5.0</td>\n",
       "      <td>5.0</td>\n",
       "      <td>5.0</td>\n",
       "      <td>5.0</td>\n",
       "    </tr>\n",
       "    <tr>\n",
       "      <th>thumbs_up_count</th>\n",
       "      <td>10000.0</td>\n",
       "      <td>0.4735</td>\n",
       "      <td>10.918774</td>\n",
       "      <td>0.0</td>\n",
       "      <td>0.0</td>\n",
       "      <td>0.0</td>\n",
       "      <td>0.0</td>\n",
       "      <td>700.0</td>\n",
       "    </tr>\n",
       "  </tbody>\n",
       "</table>\n",
       "</div>"
      ],
      "text/plain": [
       "                   count    mean        std  min  25%  50%  75%    max\n",
       "score            10000.0  4.4944   1.106025  1.0  5.0  5.0  5.0    5.0\n",
       "thumbs_up_count  10000.0  0.4735  10.918774  0.0  0.0  0.0  0.0  700.0"
      ]
     },
     "execution_count": 11,
     "metadata": {},
     "output_type": "execute_result"
    }
   ],
   "source": [
    "df.describe().T"
   ]
  },
  {
   "cell_type": "code",
   "execution_count": 12,
   "id": "7160d4f9",
   "metadata": {
    "execution": {
     "iopub.execute_input": "2024-07-30T21:36:20.619387Z",
     "iopub.status.busy": "2024-07-30T21:36:20.618604Z",
     "iopub.status.idle": "2024-07-30T21:36:20.642290Z",
     "shell.execute_reply": "2024-07-30T21:36:20.640961Z"
    },
    "papermill": {
     "duration": 0.045669,
     "end_time": "2024-07-30T21:36:20.644998",
     "exception": false,
     "start_time": "2024-07-30T21:36:20.599329",
     "status": "completed"
    },
    "tags": []
   },
   "outputs": [],
   "source": [
    "df = df.drop_duplicates()"
   ]
  },
  {
   "cell_type": "code",
   "execution_count": 13,
   "id": "c14ef659",
   "metadata": {
    "execution": {
     "iopub.execute_input": "2024-07-30T21:36:20.685165Z",
     "iopub.status.busy": "2024-07-30T21:36:20.684282Z",
     "iopub.status.idle": "2024-07-30T21:36:20.699310Z",
     "shell.execute_reply": "2024-07-30T21:36:20.698248Z"
    },
    "papermill": {
     "duration": 0.037174,
     "end_time": "2024-07-30T21:36:20.701902",
     "exception": false,
     "start_time": "2024-07-30T21:36:20.664728",
     "status": "completed"
    },
    "tags": []
   },
   "outputs": [],
   "source": [
    "df = df.dropna()"
   ]
  },
  {
   "cell_type": "code",
   "execution_count": 14,
   "id": "933cacaa",
   "metadata": {
    "execution": {
     "iopub.execute_input": "2024-07-30T21:36:20.740645Z",
     "iopub.status.busy": "2024-07-30T21:36:20.740123Z",
     "iopub.status.idle": "2024-07-30T21:36:20.747055Z",
     "shell.execute_reply": "2024-07-30T21:36:20.745999Z"
    },
    "papermill": {
     "duration": 0.029164,
     "end_time": "2024-07-30T21:36:20.749203",
     "exception": false,
     "start_time": "2024-07-30T21:36:20.720039",
     "status": "completed"
    },
    "tags": []
   },
   "outputs": [
    {
     "data": {
      "text/plain": [
       "(9204, 8)"
      ]
     },
     "execution_count": 14,
     "metadata": {},
     "output_type": "execute_result"
    }
   ],
   "source": [
    "df.shape"
   ]
  },
  {
   "cell_type": "code",
   "execution_count": 15,
   "id": "a22d797e",
   "metadata": {
    "execution": {
     "iopub.execute_input": "2024-07-30T21:36:20.788362Z",
     "iopub.status.busy": "2024-07-30T21:36:20.787597Z",
     "iopub.status.idle": "2024-07-30T21:36:20.800698Z",
     "shell.execute_reply": "2024-07-30T21:36:20.799644Z"
    },
    "papermill": {
     "duration": 0.03561,
     "end_time": "2024-07-30T21:36:20.802946",
     "exception": false,
     "start_time": "2024-07-30T21:36:20.767336",
     "status": "completed"
    },
    "tags": []
   },
   "outputs": [
    {
     "data": {
      "text/html": [
       "<div>\n",
       "<style scoped>\n",
       "    .dataframe tbody tr th:only-of-type {\n",
       "        vertical-align: middle;\n",
       "    }\n",
       "\n",
       "    .dataframe tbody tr th {\n",
       "        vertical-align: top;\n",
       "    }\n",
       "\n",
       "    .dataframe thead th {\n",
       "        text-align: right;\n",
       "    }\n",
       "</style>\n",
       "<table border=\"1\" class=\"dataframe\">\n",
       "  <thead>\n",
       "    <tr style=\"text-align: right;\">\n",
       "      <th></th>\n",
       "      <th>review_id</th>\n",
       "      <th>user_name</th>\n",
       "      <th>content</th>\n",
       "      <th>score</th>\n",
       "      <th>thumbs_up_count</th>\n",
       "      <th>review_created_version</th>\n",
       "      <th>at</th>\n",
       "      <th>app_version</th>\n",
       "    </tr>\n",
       "  </thead>\n",
       "  <tbody>\n",
       "    <tr>\n",
       "      <th>147070</th>\n",
       "      <td>cd28b0ed-2ef1-4619-9c02-b4f1e08053c4</td>\n",
       "      <td>zionheart reyesbuenafe</td>\n",
       "      <td>nagmayat okinnana dabest</td>\n",
       "      <td>5</td>\n",
       "      <td>0</td>\n",
       "      <td>1.2024.073</td>\n",
       "      <td>2024-03-25 10:58:32</td>\n",
       "      <td>1.2024.073</td>\n",
       "    </tr>\n",
       "    <tr>\n",
       "      <th>111022</th>\n",
       "      <td>f14049b5-8cd6-4225-99a9-1dcc9d79e274</td>\n",
       "      <td>Shahid Processors</td>\n",
       "      <td>It's a nice app for debate and essay and whate...</td>\n",
       "      <td>5</td>\n",
       "      <td>0</td>\n",
       "      <td>1.2023.263</td>\n",
       "      <td>2023-10-06 15:03:30</td>\n",
       "      <td>1.2023.263</td>\n",
       "    </tr>\n",
       "    <tr>\n",
       "      <th>97583</th>\n",
       "      <td>19d31cbe-f981-47f3-a552-88471f521329</td>\n",
       "      <td>Albin Gaming</td>\n",
       "      <td>I love this app it's so good legit the best an...</td>\n",
       "      <td>5</td>\n",
       "      <td>0</td>\n",
       "      <td>1.0.0039</td>\n",
       "      <td>2023-09-05 14:05:20</td>\n",
       "      <td>1.0.0039</td>\n",
       "    </tr>\n",
       "    <tr>\n",
       "      <th>19429</th>\n",
       "      <td>6b230933-2f4f-4e3b-b27b-2870568dffa8</td>\n",
       "      <td>sedik lmbo</td>\n",
       "      <td>🥰😘Amazing application Thank you for this amazi...</td>\n",
       "      <td>5</td>\n",
       "      <td>0</td>\n",
       "      <td>1.2024.170</td>\n",
       "      <td>2024-07-05 09:58:31</td>\n",
       "      <td>1.2024.170</td>\n",
       "    </tr>\n",
       "    <tr>\n",
       "      <th>168312</th>\n",
       "      <td>9106eec5-cacd-47a6-a5de-b23d3481b895</td>\n",
       "      <td>Godwin Obozuwa</td>\n",
       "      <td>Not opening</td>\n",
       "      <td>1</td>\n",
       "      <td>0</td>\n",
       "      <td>1.0.0032</td>\n",
       "      <td>2023-08-12 09:17:18</td>\n",
       "      <td>1.0.0032</td>\n",
       "    </tr>\n",
       "  </tbody>\n",
       "</table>\n",
       "</div>"
      ],
      "text/plain": [
       "                                   review_id               user_name  \\\n",
       "147070  cd28b0ed-2ef1-4619-9c02-b4f1e08053c4  zionheart reyesbuenafe   \n",
       "111022  f14049b5-8cd6-4225-99a9-1dcc9d79e274       Shahid Processors   \n",
       "97583   19d31cbe-f981-47f3-a552-88471f521329            Albin Gaming   \n",
       "19429   6b230933-2f4f-4e3b-b27b-2870568dffa8              sedik lmbo   \n",
       "168312  9106eec5-cacd-47a6-a5de-b23d3481b895          Godwin Obozuwa   \n",
       "\n",
       "                                                  content  score  \\\n",
       "147070                           nagmayat okinnana dabest      5   \n",
       "111022  It's a nice app for debate and essay and whate...      5   \n",
       "97583   I love this app it's so good legit the best an...      5   \n",
       "19429   🥰😘Amazing application Thank you for this amazi...      5   \n",
       "168312                                        Not opening      1   \n",
       "\n",
       "        thumbs_up_count review_created_version                   at  \\\n",
       "147070                0             1.2024.073  2024-03-25 10:58:32   \n",
       "111022                0             1.2023.263  2023-10-06 15:03:30   \n",
       "97583                 0               1.0.0039  2023-09-05 14:05:20   \n",
       "19429                 0             1.2024.170  2024-07-05 09:58:31   \n",
       "168312                0               1.0.0032  2023-08-12 09:17:18   \n",
       "\n",
       "       app_version  \n",
       "147070  1.2024.073  \n",
       "111022  1.2023.263  \n",
       "97583     1.0.0039  \n",
       "19429   1.2024.170  \n",
       "168312    1.0.0032  "
      ]
     },
     "execution_count": 15,
     "metadata": {},
     "output_type": "execute_result"
    }
   ],
   "source": [
    "df.head()"
   ]
  },
  {
   "cell_type": "code",
   "execution_count": 16,
   "id": "421f3f07",
   "metadata": {
    "execution": {
     "iopub.execute_input": "2024-07-30T21:36:20.900114Z",
     "iopub.status.busy": "2024-07-30T21:36:20.899724Z",
     "iopub.status.idle": "2024-07-30T21:36:20.910225Z",
     "shell.execute_reply": "2024-07-30T21:36:20.909024Z"
    },
    "papermill": {
     "duration": 0.032791,
     "end_time": "2024-07-30T21:36:20.912617",
     "exception": false,
     "start_time": "2024-07-30T21:36:20.879826",
     "status": "completed"
    },
    "tags": []
   },
   "outputs": [
    {
     "data": {
      "text/plain": [
       "score\n",
       "5    7157\n",
       "4    1016\n",
       "1     504\n",
       "3     387\n",
       "2     140\n",
       "Name: count, dtype: int64"
      ]
     },
     "execution_count": 16,
     "metadata": {},
     "output_type": "execute_result"
    }
   ],
   "source": [
    "df['score'].value_counts()"
   ]
  },
  {
   "cell_type": "code",
   "execution_count": 17,
   "id": "f0109337",
   "metadata": {
    "execution": {
     "iopub.execute_input": "2024-07-30T21:36:20.963563Z",
     "iopub.status.busy": "2024-07-30T21:36:20.963087Z",
     "iopub.status.idle": "2024-07-30T21:36:20.972795Z",
     "shell.execute_reply": "2024-07-30T21:36:20.971573Z"
    },
    "papermill": {
     "duration": 0.041033,
     "end_time": "2024-07-30T21:36:20.975236",
     "exception": false,
     "start_time": "2024-07-30T21:36:20.934203",
     "status": "completed"
    },
    "tags": []
   },
   "outputs": [
    {
     "data": {
      "text/plain": [
       "thumbs_up_count\n",
       "0      8917\n",
       "1       161\n",
       "2        34\n",
       "3        18\n",
       "5         9\n",
       "4         8\n",
       "7         5\n",
       "6         3\n",
       "8         3\n",
       "13        3\n",
       "14        3\n",
       "24        3\n",
       "9         3\n",
       "11        2\n",
       "50        2\n",
       "55        2\n",
       "18        1\n",
       "250       1\n",
       "53        1\n",
       "12        1\n",
       "122       1\n",
       "62        1\n",
       "216       1\n",
       "265       1\n",
       "78        1\n",
       "700       1\n",
       "19        1\n",
       "17        1\n",
       "34        1\n",
       "61        1\n",
       "161       1\n",
       "480       1\n",
       "65        1\n",
       "164       1\n",
       "273       1\n",
       "170       1\n",
       "29        1\n",
       "82        1\n",
       "22        1\n",
       "76        1\n",
       "60        1\n",
       "232       1\n",
       "26        1\n",
       "113       1\n",
       "Name: count, dtype: int64"
      ]
     },
     "execution_count": 17,
     "metadata": {},
     "output_type": "execute_result"
    }
   ],
   "source": [
    "df['thumbs_up_count'].value_counts()"
   ]
  },
  {
   "cell_type": "markdown",
   "id": "7f2d418f",
   "metadata": {
    "papermill": {
     "duration": 0.018668,
     "end_time": "2024-07-30T21:36:21.013236",
     "exception": false,
     "start_time": "2024-07-30T21:36:20.994568",
     "status": "completed"
    },
    "tags": []
   },
   "source": [
    "#### *Data Visulation*"
   ]
  },
  {
   "cell_type": "code",
   "execution_count": 18,
   "id": "d49a62e1",
   "metadata": {
    "execution": {
     "iopub.execute_input": "2024-07-30T21:36:21.052783Z",
     "iopub.status.busy": "2024-07-30T21:36:21.052380Z",
     "iopub.status.idle": "2024-07-30T21:36:21.543077Z",
     "shell.execute_reply": "2024-07-30T21:36:21.541998Z"
    },
    "papermill": {
     "duration": 0.513207,
     "end_time": "2024-07-30T21:36:21.545311",
     "exception": false,
     "start_time": "2024-07-30T21:36:21.032104",
     "status": "completed"
    },
    "tags": []
   },
   "outputs": [
    {
     "data": {
      "image/png": "[encoded data removed]",
      "text/plain": [
       "<Figure size 1500x500 with 2 Axes>"
      ]
     },
     "metadata": {},
     "output_type": "display_data"
    }
   ],
   "source": [
    "df.hist(figsize = (15,5))\n",
    "plt.show()"
   ]
  },
  {
   "cell_type": "code",
   "execution_count": 19,
   "id": "00e85bf8",
   "metadata": {
    "execution": {
     "iopub.execute_input": "2024-07-30T21:36:21.585686Z",
     "iopub.status.busy": "2024-07-30T21:36:21.585277Z",
     "iopub.status.idle": "2024-07-30T21:36:21.829830Z",
     "shell.execute_reply": "2024-07-30T21:36:21.828472Z"
    },
    "papermill": {
     "duration": 0.268,
     "end_time": "2024-07-30T21:36:21.832512",
     "exception": false,
     "start_time": "2024-07-30T21:36:21.564512",
     "status": "completed"
    },
    "tags": []
   },
   "outputs": [
    {
     "data": {
      "image/png": "[encoded data removed]",
      "text/plain": [
       "<Figure size 640x480 with 1 Axes>"
      ]
     },
     "metadata": {},
     "output_type": "display_data"
    }
   ],
   "source": [
    "sns.scatterplot(x = 'score', y = 'thumbs_up_count', data = df)\n",
    "plt.show()"
   ]
  },
  {
   "cell_type": "markdown",
   "id": "962fdc0e",
   "metadata": {
    "papermill": {
     "duration": 0.020047,
     "end_time": "2024-07-30T21:36:21.877396",
     "exception": false,
     "start_time": "2024-07-30T21:36:21.857349",
     "status": "completed"
    },
    "tags": []
   },
   "source": [
    "#### *Feature Engineering*"
   ]
  },
  {
   "cell_type": "code",
   "execution_count": 20,
   "id": "35c3c5e7",
   "metadata": {
    "execution": {
     "iopub.execute_input": "2024-07-30T21:36:21.920376Z",
     "iopub.status.busy": "2024-07-30T21:36:21.919954Z",
     "iopub.status.idle": "2024-07-30T21:36:21.928723Z",
     "shell.execute_reply": "2024-07-30T21:36:21.927574Z"
    },
    "papermill": {
     "duration": 0.032961,
     "end_time": "2024-07-30T21:36:21.931121",
     "exception": false,
     "start_time": "2024-07-30T21:36:21.898160",
     "status": "completed"
    },
    "tags": []
   },
   "outputs": [],
   "source": [
    "df.drop(columns = ['review_id', 'user_name', 'at'], inplace = True)"
   ]
  },
  {
   "cell_type": "code",
   "execution_count": 21,
   "id": "fdef5562",
   "metadata": {
    "execution": {
     "iopub.execute_input": "2024-07-30T21:36:21.974243Z",
     "iopub.status.busy": "2024-07-30T21:36:21.973847Z",
     "iopub.status.idle": "2024-07-30T21:36:21.986125Z",
     "shell.execute_reply": "2024-07-30T21:36:21.984888Z"
    },
    "papermill": {
     "duration": 0.035892,
     "end_time": "2024-07-30T21:36:21.988475",
     "exception": false,
     "start_time": "2024-07-30T21:36:21.952583",
     "status": "completed"
    },
    "tags": []
   },
   "outputs": [
    {
     "data": {
      "text/html": [
       "<div>\n",
       "<style scoped>\n",
       "    .dataframe tbody tr th:only-of-type {\n",
       "        vertical-align: middle;\n",
       "    }\n",
       "\n",
       "    .dataframe tbody tr th {\n",
       "        vertical-align: top;\n",
       "    }\n",
       "\n",
       "    .dataframe thead th {\n",
       "        text-align: right;\n",
       "    }\n",
       "</style>\n",
       "<table border=\"1\" class=\"dataframe\">\n",
       "  <thead>\n",
       "    <tr style=\"text-align: right;\">\n",
       "      <th></th>\n",
       "      <th>content</th>\n",
       "      <th>score</th>\n",
       "      <th>thumbs_up_count</th>\n",
       "      <th>review_created_version</th>\n",
       "      <th>app_version</th>\n",
       "    </tr>\n",
       "  </thead>\n",
       "  <tbody>\n",
       "    <tr>\n",
       "      <th>147070</th>\n",
       "      <td>nagmayat okinnana dabest</td>\n",
       "      <td>5</td>\n",
       "      <td>0</td>\n",
       "      <td>1.2024.073</td>\n",
       "      <td>1.2024.073</td>\n",
       "    </tr>\n",
       "    <tr>\n",
       "      <th>111022</th>\n",
       "      <td>It's a nice app for debate and essay and whate...</td>\n",
       "      <td>5</td>\n",
       "      <td>0</td>\n",
       "      <td>1.2023.263</td>\n",
       "      <td>1.2023.263</td>\n",
       "    </tr>\n",
       "    <tr>\n",
       "      <th>97583</th>\n",
       "      <td>I love this app it's so good legit the best an...</td>\n",
       "      <td>5</td>\n",
       "      <td>0</td>\n",
       "      <td>1.0.0039</td>\n",
       "      <td>1.0.0039</td>\n",
       "    </tr>\n",
       "    <tr>\n",
       "      <th>19429</th>\n",
       "      <td>🥰😘Amazing application Thank you for this amazi...</td>\n",
       "      <td>5</td>\n",
       "      <td>0</td>\n",
       "      <td>1.2024.170</td>\n",
       "      <td>1.2024.170</td>\n",
       "    </tr>\n",
       "    <tr>\n",
       "      <th>168312</th>\n",
       "      <td>Not opening</td>\n",
       "      <td>1</td>\n",
       "      <td>0</td>\n",
       "      <td>1.0.0032</td>\n",
       "      <td>1.0.0032</td>\n",
       "    </tr>\n",
       "  </tbody>\n",
       "</table>\n",
       "</div>"
      ],
      "text/plain": [
       "                                                  content  score  \\\n",
       "147070                           nagmayat okinnana dabest      5   \n",
       "111022  It's a nice app for debate and essay and whate...      5   \n",
       "97583   I love this app it's so good legit the best an...      5   \n",
       "19429   🥰😘Amazing application Thank you for this amazi...      5   \n",
       "168312                                        Not opening      1   \n",
       "\n",
       "        thumbs_up_count review_created_version app_version  \n",
       "147070                0             1.2024.073  1.2024.073  \n",
       "111022                0             1.2023.263  1.2023.263  \n",
       "97583                 0               1.0.0039    1.0.0039  \n",
       "19429                 0             1.2024.170  1.2024.170  \n",
       "168312                0               1.0.0032    1.0.0032  "
      ]
     },
     "execution_count": 21,
     "metadata": {},
     "output_type": "execute_result"
    }
   ],
   "source": [
    "df.head()"
   ]
  },
  {
   "cell_type": "markdown",
   "id": "933bddca",
   "metadata": {
    "papermill": {
     "duration": 0.020682,
     "end_time": "2024-07-30T21:36:22.029224",
     "exception": false,
     "start_time": "2024-07-30T21:36:22.008542",
     "status": "completed"
    },
    "tags": []
   },
   "source": [
    "#### *Label Encoding*"
   ]
  },
  {
   "cell_type": "code",
   "execution_count": 22,
   "id": "3f480b89",
   "metadata": {
    "execution": {
     "iopub.execute_input": "2024-07-30T21:36:22.071315Z",
     "iopub.status.busy": "2024-07-30T21:36:22.070929Z",
     "iopub.status.idle": "2024-07-30T21:36:22.079154Z",
     "shell.execute_reply": "2024-07-30T21:36:22.078060Z"
    },
    "papermill": {
     "duration": 0.031667,
     "end_time": "2024-07-30T21:36:22.081206",
     "exception": false,
     "start_time": "2024-07-30T21:36:22.049539",
     "status": "completed"
    },
    "tags": []
   },
   "outputs": [],
   "source": [
    "le = LabelEncoder()\n",
    "df['review_created_version'] = le.fit_transform(df['review_created_version'])"
   ]
  },
  {
   "cell_type": "code",
   "execution_count": 23,
   "id": "1a29030d",
   "metadata": {
    "execution": {
     "iopub.execute_input": "2024-07-30T21:36:22.124745Z",
     "iopub.status.busy": "2024-07-30T21:36:22.123585Z",
     "iopub.status.idle": "2024-07-30T21:36:22.134432Z",
     "shell.execute_reply": "2024-07-30T21:36:22.133333Z"
    },
    "papermill": {
     "duration": 0.035647,
     "end_time": "2024-07-30T21:36:22.137034",
     "exception": false,
     "start_time": "2024-07-30T21:36:22.101387",
     "status": "completed"
    },
    "tags": []
   },
   "outputs": [],
   "source": [
    "oe = OrdinalEncoder()\n",
    "df['app_version'] = oe.fit_transform(df[['app_version']])"
   ]
  },
  {
   "cell_type": "code",
   "execution_count": 24,
   "id": "4d0c7625",
   "metadata": {
    "execution": {
     "iopub.execute_input": "2024-07-30T21:36:22.179591Z",
     "iopub.status.busy": "2024-07-30T21:36:22.179159Z",
     "iopub.status.idle": "2024-07-30T21:36:22.191863Z",
     "shell.execute_reply": "2024-07-30T21:36:22.190682Z"
    },
    "papermill": {
     "duration": 0.037074,
     "end_time": "2024-07-30T21:36:22.194334",
     "exception": false,
     "start_time": "2024-07-30T21:36:22.157260",
     "status": "completed"
    },
    "tags": []
   },
   "outputs": [
    {
     "data": {
      "text/html": [
       "<div>\n",
       "<style scoped>\n",
       "    .dataframe tbody tr th:only-of-type {\n",
       "        vertical-align: middle;\n",
       "    }\n",
       "\n",
       "    .dataframe tbody tr th {\n",
       "        vertical-align: top;\n",
       "    }\n",
       "\n",
       "    .dataframe thead th {\n",
       "        text-align: right;\n",
       "    }\n",
       "</style>\n",
       "<table border=\"1\" class=\"dataframe\">\n",
       "  <thead>\n",
       "    <tr style=\"text-align: right;\">\n",
       "      <th></th>\n",
       "      <th>content</th>\n",
       "      <th>score</th>\n",
       "      <th>thumbs_up_count</th>\n",
       "      <th>review_created_version</th>\n",
       "      <th>app_version</th>\n",
       "    </tr>\n",
       "  </thead>\n",
       "  <tbody>\n",
       "    <tr>\n",
       "      <th>147070</th>\n",
       "      <td>nagmayat okinnana dabest</td>\n",
       "      <td>5</td>\n",
       "      <td>0</td>\n",
       "      <td>40</td>\n",
       "      <td>40.0</td>\n",
       "    </tr>\n",
       "    <tr>\n",
       "      <th>111022</th>\n",
       "      <td>It's a nice app for debate and essay and whate...</td>\n",
       "      <td>5</td>\n",
       "      <td>0</td>\n",
       "      <td>12</td>\n",
       "      <td>12.0</td>\n",
       "    </tr>\n",
       "    <tr>\n",
       "      <th>97583</th>\n",
       "      <td>I love this app it's so good legit the best an...</td>\n",
       "      <td>5</td>\n",
       "      <td>0</td>\n",
       "      <td>8</td>\n",
       "      <td>8.0</td>\n",
       "    </tr>\n",
       "    <tr>\n",
       "      <th>19429</th>\n",
       "      <td>🥰😘Amazing application Thank you for this amazi...</td>\n",
       "      <td>5</td>\n",
       "      <td>0</td>\n",
       "      <td>58</td>\n",
       "      <td>58.0</td>\n",
       "    </tr>\n",
       "    <tr>\n",
       "      <th>168312</th>\n",
       "      <td>Not opening</td>\n",
       "      <td>1</td>\n",
       "      <td>0</td>\n",
       "      <td>6</td>\n",
       "      <td>6.0</td>\n",
       "    </tr>\n",
       "  </tbody>\n",
       "</table>\n",
       "</div>"
      ],
      "text/plain": [
       "                                                  content  score  \\\n",
       "147070                           nagmayat okinnana dabest      5   \n",
       "111022  It's a nice app for debate and essay and whate...      5   \n",
       "97583   I love this app it's so good legit the best an...      5   \n",
       "19429   🥰😘Amazing application Thank you for this amazi...      5   \n",
       "168312                                        Not opening      1   \n",
       "\n",
       "        thumbs_up_count  review_created_version  app_version  \n",
       "147070                0                      40         40.0  \n",
       "111022                0                      12         12.0  \n",
       "97583                 0                       8          8.0  \n",
       "19429                 0                      58         58.0  \n",
       "168312                0                       6          6.0  "
      ]
     },
     "execution_count": 24,
     "metadata": {},
     "output_type": "execute_result"
    }
   ],
   "source": [
    "df.head()"
   ]
  },
  {
   "cell_type": "markdown",
   "id": "f0dacdfd",
   "metadata": {
    "papermill": {
     "duration": 0.020497,
     "end_time": "2024-07-30T21:36:22.235621",
     "exception": false,
     "start_time": "2024-07-30T21:36:22.215124",
     "status": "completed"
    },
    "tags": []
   },
   "source": [
    "#### *Applying NLP*"
   ]
  },
  {
   "cell_type": "code",
   "execution_count": 25,
   "id": "467ec855",
   "metadata": {
    "execution": {
     "iopub.execute_input": "2024-07-30T21:36:22.280180Z",
     "iopub.status.busy": "2024-07-30T21:36:22.279741Z",
     "iopub.status.idle": "2024-07-30T21:36:22.288881Z",
     "shell.execute_reply": "2024-07-30T21:36:22.287793Z"
    },
    "papermill": {
     "duration": 0.033491,
     "end_time": "2024-07-30T21:36:22.291342",
     "exception": false,
     "start_time": "2024-07-30T21:36:22.257851",
     "status": "completed"
    },
    "tags": []
   },
   "outputs": [
    {
     "data": {
      "text/plain": [
       "147070                             nagmayat okinnana dabest\n",
       "111022    It's a nice app for debate and essay and whate...\n",
       "97583     I love this app it's so good legit the best an...\n",
       "19429     🥰😘Amazing application Thank you for this amazi...\n",
       "168312                                          Not opening\n",
       "                                ...                        \n",
       "145578                                         Soo detailed\n",
       "137442                                                 good\n",
       "14443                                         working smart\n",
       "118431                        This app is free and amazing!\n",
       "35355     Mujhe kuch khas nahin laga yeh app. Mene esse ...\n",
       "Name: content, Length: 9204, dtype: object"
      ]
     },
     "execution_count": 25,
     "metadata": {},
     "output_type": "execute_result"
    }
   ],
   "source": [
    "df['content']"
   ]
  },
  {
   "cell_type": "code",
   "execution_count": 26,
   "id": "1bbfda18",
   "metadata": {
    "execution": {
     "iopub.execute_input": "2024-07-30T21:36:22.334412Z",
     "iopub.status.busy": "2024-07-30T21:36:22.334022Z",
     "iopub.status.idle": "2024-07-30T21:36:22.349186Z",
     "shell.execute_reply": "2024-07-30T21:36:22.348015Z"
    },
    "papermill": {
     "duration": 0.040213,
     "end_time": "2024-07-30T21:36:22.351917",
     "exception": false,
     "start_time": "2024-07-30T21:36:22.311704",
     "status": "completed"
    },
    "tags": []
   },
   "outputs": [
    {
     "data": {
      "text/plain": [
       "147070                             nagmayat okinnana dabest\n",
       "111022    it's a nice app for debate and essay and whate...\n",
       "97583     i love this app it's so good legit the best an...\n",
       "19429     🥰😘amazing application thank you for this amazi...\n",
       "168312                                          not opening\n",
       "                                ...                        \n",
       "145578                                         soo detailed\n",
       "137442                                                 good\n",
       "14443                                         working smart\n",
       "118431                        this app is free and amazing!\n",
       "35355     mujhe kuch khas nahin laga yeh app. mene esse ...\n",
       "Name: content, Length: 9204, dtype: object"
      ]
     },
     "execution_count": 26,
     "metadata": {},
     "output_type": "execute_result"
    }
   ],
   "source": [
    "df['content'] = df['content'].str.lower()\n",
    "df['content']"
   ]
  },
  {
   "cell_type": "code",
   "execution_count": 27,
   "id": "b9ee3d75",
   "metadata": {
    "execution": {
     "iopub.execute_input": "2024-07-30T21:36:22.395060Z",
     "iopub.status.busy": "2024-07-30T21:36:22.394668Z",
     "iopub.status.idle": "2024-07-30T21:36:22.415909Z",
     "shell.execute_reply": "2024-07-30T21:36:22.414773Z"
    },
    "papermill": {
     "duration": 0.045596,
     "end_time": "2024-07-30T21:36:22.418361",
     "exception": false,
     "start_time": "2024-07-30T21:36:22.372765",
     "status": "completed"
    },
    "tags": []
   },
   "outputs": [
    {
     "data": {
      "text/plain": [
       "147070                             nagmayat okinnana dabest\n",
       "111022    it's a nice app for debate and essay and whate...\n",
       "97583     i love this app it's so good legit the best an...\n",
       "19429     🥰😘amazing application thank you for this amazi...\n",
       "168312                                          not opening\n",
       "25961                                        it is so sweet\n",
       "112909       very informative app to give perfect knowledge\n",
       "146628                                          awesomeness\n",
       "14834                 ok but 4.0 must have unlimited access\n",
       "112462    very good site for pharma learners. one should...\n",
       "96998     this app is very useful for questions solving ...\n",
       "20428                                                  good\n",
       "3389                                         respective a.i\n",
       "65301     l good game but... i dowload this in my comput...\n",
       "138337    good h ji, abhi time h ai ke pass apni maarne ...\n",
       "146421                                              is nice\n",
       "160932                                         very awesome\n",
       "161928                                              amazing\n",
       "69641     it's really good to have this app. it helps us...\n",
       "77194                  this app is useful for study,reseach\n",
       "Name: content, dtype: object"
      ]
     },
     "execution_count": 27,
     "metadata": {},
     "output_type": "execute_result"
    }
   ],
   "source": [
    "def remove_html_tags(text):\n",
    "    clean_text = re.sub('<.*>', '', text)\n",
    "    return clean_text\n",
    "\n",
    "df['content'] = df['content'].apply(remove_html_tags)\n",
    "df['content'].head(20)"
   ]
  },
  {
   "cell_type": "code",
   "execution_count": 28,
   "id": "41296cb1",
   "metadata": {
    "execution": {
     "iopub.execute_input": "2024-07-30T21:36:22.465309Z",
     "iopub.status.busy": "2024-07-30T21:36:22.464353Z",
     "iopub.status.idle": "2024-07-30T21:36:22.503446Z",
     "shell.execute_reply": "2024-07-30T21:36:22.502252Z"
    },
    "papermill": {
     "duration": 0.065645,
     "end_time": "2024-07-30T21:36:22.506209",
     "exception": false,
     "start_time": "2024-07-30T21:36:22.440564",
     "status": "completed"
    },
    "tags": []
   },
   "outputs": [
    {
     "data": {
      "text/plain": [
       "147070                             nagmayat okinnana dabest\n",
       "111022    it's a nice app for debate and essay and whate...\n",
       "97583     i love this app it's so good legit the best an...\n",
       "19429     🥰😘amazing application thank you for this amazi...\n",
       "168312                                          not opening\n",
       "25961                                        it is so sweet\n",
       "112909       very informative app to give perfect knowledge\n",
       "146628                                          awesomeness\n",
       "14834                 ok but 4.0 must have unlimited access\n",
       "112462    very good site for pharma learners. one should...\n",
       "96998     this app is very useful for questions solving ...\n",
       "20428                                                  good\n",
       "3389                                         respective a.i\n",
       "65301     l good game but... i dowload this in my comput...\n",
       "138337    good h ji, abhi time h ai ke pass apni maarne ...\n",
       "146421                                              is nice\n",
       "160932                                         very awesome\n",
       "161928                                              amazing\n",
       "69641     it's really good to have this app. it helps us...\n",
       "77194                  this app is useful for study,reseach\n",
       "Name: content, dtype: object"
      ]
     },
     "execution_count": 28,
     "metadata": {},
     "output_type": "execute_result"
    }
   ],
   "source": [
    "def remove_urls(text):\n",
    "    url_pattern = re.compile(r'https?://\\S+|www\\.\\S+')\n",
    "    clean_text = re.sub(url_pattern, '', text)\n",
    "    return clean_text\n",
    "\n",
    "df['content'] = df['content'].apply(remove_urls)\n",
    "df['content'].head(20)"
   ]
  },
  {
   "cell_type": "code",
   "execution_count": 29,
   "id": "450d317c",
   "metadata": {
    "execution": {
     "iopub.execute_input": "2024-07-30T21:36:22.549723Z",
     "iopub.status.busy": "2024-07-30T21:36:22.549323Z",
     "iopub.status.idle": "2024-07-30T21:36:24.048716Z",
     "shell.execute_reply": "2024-07-30T21:36:24.046798Z"
    },
    "papermill": {
     "duration": 1.523694,
     "end_time": "2024-07-30T21:36:24.051041",
     "exception": true,
     "start_time": "2024-07-30T21:36:22.527347",
     "status": "failed"
    },
    "tags": []
   },
   "outputs": [
    {
     "ename": "NameError",
     "evalue": "name 'string' is not defined",
     "output_type": "error",
     "traceback": [
      "\u001b[0;31m---------------------------------------------------------------------------\u001b[0m",
      "\u001b[0;31mNameError\u001b[0m                                 Traceback (most recent call last)",
      "Cell \u001b[0;32mIn[29], line 6\u001b[0m\n\u001b[1;32m      3\u001b[0m     clean_text \u001b[38;5;241m=\u001b[39m text\u001b[38;5;241m.\u001b[39mtranslate(\u001b[38;5;28mstr\u001b[39m\u001b[38;5;241m.\u001b[39mmaketrans(\u001b[38;5;124m'\u001b[39m\u001b[38;5;124m'\u001b[39m,\u001b[38;5;124m'\u001b[39m\u001b[38;5;124m'\u001b[39m, punc))\n\u001b[1;32m      4\u001b[0m     \u001b[38;5;28;01mreturn\u001b[39;00m clean_text\n\u001b[0;32m----> 6\u001b[0m df[\u001b[38;5;124m'\u001b[39m\u001b[38;5;124mcontent\u001b[39m\u001b[38;5;124m'\u001b[39m] \u001b[38;5;241m=\u001b[39m \u001b[43mdf\u001b[49m\u001b[43m[\u001b[49m\u001b[38;5;124;43m'\u001b[39;49m\u001b[38;5;124;43mcontent\u001b[39;49m\u001b[38;5;124;43m'\u001b[39;49m\u001b[43m]\u001b[49m\u001b[38;5;241;43m.\u001b[39;49m\u001b[43mapply\u001b[49m\u001b[43m(\u001b[49m\u001b[43mremove_punc\u001b[49m\u001b[43m)\u001b[49m\n\u001b[1;32m      7\u001b[0m df[\u001b[38;5;124m'\u001b[39m\u001b[38;5;124mcontent\u001b[39m\u001b[38;5;124m'\u001b[39m]\u001b[38;5;241m.\u001b[39mhead(\u001b[38;5;241m20\u001b[39m)\n",
      "File \u001b[0;32m/opt/conda/lib/python3.10/site-packages/pandas/core/series.py:4924\u001b[0m, in \u001b[0;36mSeries.apply\u001b[0;34m(self, func, convert_dtype, args, by_row, **kwargs)\u001b[0m\n\u001b[1;32m   4789\u001b[0m \u001b[38;5;28;01mdef\u001b[39;00m \u001b[38;5;21mapply\u001b[39m(\n\u001b[1;32m   4790\u001b[0m     \u001b[38;5;28mself\u001b[39m,\n\u001b[1;32m   4791\u001b[0m     func: AggFuncType,\n\u001b[0;32m   (...)\u001b[0m\n\u001b[1;32m   4796\u001b[0m     \u001b[38;5;241m*\u001b[39m\u001b[38;5;241m*\u001b[39mkwargs,\n\u001b[1;32m   4797\u001b[0m ) \u001b[38;5;241m-\u001b[39m\u001b[38;5;241m>\u001b[39m DataFrame \u001b[38;5;241m|\u001b[39m Series:\n\u001b[1;32m   4798\u001b[0m \u001b[38;5;250m    \u001b[39m\u001b[38;5;124;03m\"\"\"\u001b[39;00m\n\u001b[1;32m   4799\u001b[0m \u001b[38;5;124;03m    Invoke function on values of Series.\u001b[39;00m\n\u001b[1;32m   4800\u001b[0m \n\u001b[0;32m   (...)\u001b[0m\n\u001b[1;32m   4915\u001b[0m \u001b[38;5;124;03m    dtype: float64\u001b[39;00m\n\u001b[1;32m   4916\u001b[0m \u001b[38;5;124;03m    \"\"\"\u001b[39;00m\n\u001b[1;32m   4917\u001b[0m     \u001b[38;5;28;01mreturn\u001b[39;00m \u001b[43mSeriesApply\u001b[49m\u001b[43m(\u001b[49m\n\u001b[1;32m   4918\u001b[0m \u001b[43m        \u001b[49m\u001b[38;5;28;43mself\u001b[39;49m\u001b[43m,\u001b[49m\n\u001b[1;32m   4919\u001b[0m \u001b[43m        \u001b[49m\u001b[43mfunc\u001b[49m\u001b[43m,\u001b[49m\n\u001b[1;32m   4920\u001b[0m \u001b[43m        \u001b[49m\u001b[43mconvert_dtype\u001b[49m\u001b[38;5;241;43m=\u001b[39;49m\u001b[43mconvert_dtype\u001b[49m\u001b[43m,\u001b[49m\n\u001b[1;32m   4921\u001b[0m \u001b[43m        \u001b[49m\u001b[43mby_row\u001b[49m\u001b[38;5;241;43m=\u001b[39;49m\u001b[43mby_row\u001b[49m\u001b[43m,\u001b[49m\n\u001b[1;32m   4922\u001b[0m \u001b[43m        \u001b[49m\u001b[43margs\u001b[49m\u001b[38;5;241;43m=\u001b[39;49m\u001b[43margs\u001b[49m\u001b[43m,\u001b[49m\n\u001b[1;32m   4923\u001b[0m \u001b[43m        \u001b[49m\u001b[43mkwargs\u001b[49m\u001b[38;5;241;43m=\u001b[39;49m\u001b[43mkwargs\u001b[49m\u001b[43m,\u001b[49m\n\u001b[0;32m-> 4924\u001b[0m \u001b[43m    \u001b[49m\u001b[43m)\u001b[49m\u001b[38;5;241;43m.\u001b[39;49m\u001b[43mapply\u001b[49m\u001b[43m(\u001b[49m\u001b[43m)\u001b[49m\n",
      "File \u001b[0;32m/opt/conda/lib/python3.10/site-packages/pandas/core/apply.py:1427\u001b[0m, in \u001b[0;36mSeriesApply.apply\u001b[0;34m(self)\u001b[0m\n\u001b[1;32m   1424\u001b[0m     \u001b[38;5;28;01mreturn\u001b[39;00m \u001b[38;5;28mself\u001b[39m\u001b[38;5;241m.\u001b[39mapply_compat()\n\u001b[1;32m   1426\u001b[0m \u001b[38;5;66;03m# self.func is Callable\u001b[39;00m\n\u001b[0;32m-> 1427\u001b[0m \u001b[38;5;28;01mreturn\u001b[39;00m \u001b[38;5;28;43mself\u001b[39;49m\u001b[38;5;241;43m.\u001b[39;49m\u001b[43mapply_standard\u001b[49m\u001b[43m(\u001b[49m\u001b[43m)\u001b[49m\n",
      "File \u001b[0;32m/opt/conda/lib/python3.10/site-packages/pandas/core/apply.py:1507\u001b[0m, in \u001b[0;36mSeriesApply.apply_standard\u001b[0;34m(self)\u001b[0m\n\u001b[1;32m   1501\u001b[0m \u001b[38;5;66;03m# row-wise access\u001b[39;00m\n\u001b[1;32m   1502\u001b[0m \u001b[38;5;66;03m# apply doesn't have a `na_action` keyword and for backward compat reasons\u001b[39;00m\n\u001b[1;32m   1503\u001b[0m \u001b[38;5;66;03m# we need to give `na_action=\"ignore\"` for categorical data.\u001b[39;00m\n\u001b[1;32m   1504\u001b[0m \u001b[38;5;66;03m# TODO: remove the `na_action=\"ignore\"` when that default has been changed in\u001b[39;00m\n\u001b[1;32m   1505\u001b[0m \u001b[38;5;66;03m#  Categorical (GH51645).\u001b[39;00m\n\u001b[1;32m   1506\u001b[0m action \u001b[38;5;241m=\u001b[39m \u001b[38;5;124m\"\u001b[39m\u001b[38;5;124mignore\u001b[39m\u001b[38;5;124m\"\u001b[39m \u001b[38;5;28;01mif\u001b[39;00m \u001b[38;5;28misinstance\u001b[39m(obj\u001b[38;5;241m.\u001b[39mdtype, CategoricalDtype) \u001b[38;5;28;01melse\u001b[39;00m \u001b[38;5;28;01mNone\u001b[39;00m\n\u001b[0;32m-> 1507\u001b[0m mapped \u001b[38;5;241m=\u001b[39m \u001b[43mobj\u001b[49m\u001b[38;5;241;43m.\u001b[39;49m\u001b[43m_map_values\u001b[49m\u001b[43m(\u001b[49m\n\u001b[1;32m   1508\u001b[0m \u001b[43m    \u001b[49m\u001b[43mmapper\u001b[49m\u001b[38;5;241;43m=\u001b[39;49m\u001b[43mcurried\u001b[49m\u001b[43m,\u001b[49m\u001b[43m \u001b[49m\u001b[43mna_action\u001b[49m\u001b[38;5;241;43m=\u001b[39;49m\u001b[43maction\u001b[49m\u001b[43m,\u001b[49m\u001b[43m \u001b[49m\u001b[43mconvert\u001b[49m\u001b[38;5;241;43m=\u001b[39;49m\u001b[38;5;28;43mself\u001b[39;49m\u001b[38;5;241;43m.\u001b[39;49m\u001b[43mconvert_dtype\u001b[49m\n\u001b[1;32m   1509\u001b[0m \u001b[43m\u001b[49m\u001b[43m)\u001b[49m\n\u001b[1;32m   1511\u001b[0m \u001b[38;5;28;01mif\u001b[39;00m \u001b[38;5;28mlen\u001b[39m(mapped) \u001b[38;5;129;01mand\u001b[39;00m \u001b[38;5;28misinstance\u001b[39m(mapped[\u001b[38;5;241m0\u001b[39m], ABCSeries):\n\u001b[1;32m   1512\u001b[0m     \u001b[38;5;66;03m# GH#43986 Need to do list(mapped) in order to get treated as nested\u001b[39;00m\n\u001b[1;32m   1513\u001b[0m     \u001b[38;5;66;03m#  See also GH#25959 regarding EA support\u001b[39;00m\n\u001b[1;32m   1514\u001b[0m     \u001b[38;5;28;01mreturn\u001b[39;00m obj\u001b[38;5;241m.\u001b[39m_constructor_expanddim(\u001b[38;5;28mlist\u001b[39m(mapped), index\u001b[38;5;241m=\u001b[39mobj\u001b[38;5;241m.\u001b[39mindex)\n",
      "File \u001b[0;32m/opt/conda/lib/python3.10/site-packages/pandas/core/base.py:921\u001b[0m, in \u001b[0;36mIndexOpsMixin._map_values\u001b[0;34m(self, mapper, na_action, convert)\u001b[0m\n\u001b[1;32m    918\u001b[0m \u001b[38;5;28;01mif\u001b[39;00m \u001b[38;5;28misinstance\u001b[39m(arr, ExtensionArray):\n\u001b[1;32m    919\u001b[0m     \u001b[38;5;28;01mreturn\u001b[39;00m arr\u001b[38;5;241m.\u001b[39mmap(mapper, na_action\u001b[38;5;241m=\u001b[39mna_action)\n\u001b[0;32m--> 921\u001b[0m \u001b[38;5;28;01mreturn\u001b[39;00m \u001b[43malgorithms\u001b[49m\u001b[38;5;241;43m.\u001b[39;49m\u001b[43mmap_array\u001b[49m\u001b[43m(\u001b[49m\u001b[43marr\u001b[49m\u001b[43m,\u001b[49m\u001b[43m \u001b[49m\u001b[43mmapper\u001b[49m\u001b[43m,\u001b[49m\u001b[43m \u001b[49m\u001b[43mna_action\u001b[49m\u001b[38;5;241;43m=\u001b[39;49m\u001b[43mna_action\u001b[49m\u001b[43m,\u001b[49m\u001b[43m \u001b[49m\u001b[43mconvert\u001b[49m\u001b[38;5;241;43m=\u001b[39;49m\u001b[43mconvert\u001b[49m\u001b[43m)\u001b[49m\n",
      "File \u001b[0;32m/opt/conda/lib/python3.10/site-packages/pandas/core/algorithms.py:1743\u001b[0m, in \u001b[0;36mmap_array\u001b[0;34m(arr, mapper, na_action, convert)\u001b[0m\n\u001b[1;32m   1741\u001b[0m values \u001b[38;5;241m=\u001b[39m arr\u001b[38;5;241m.\u001b[39mastype(\u001b[38;5;28mobject\u001b[39m, copy\u001b[38;5;241m=\u001b[39m\u001b[38;5;28;01mFalse\u001b[39;00m)\n\u001b[1;32m   1742\u001b[0m \u001b[38;5;28;01mif\u001b[39;00m na_action \u001b[38;5;129;01mis\u001b[39;00m \u001b[38;5;28;01mNone\u001b[39;00m:\n\u001b[0;32m-> 1743\u001b[0m     \u001b[38;5;28;01mreturn\u001b[39;00m \u001b[43mlib\u001b[49m\u001b[38;5;241;43m.\u001b[39;49m\u001b[43mmap_infer\u001b[49m\u001b[43m(\u001b[49m\u001b[43mvalues\u001b[49m\u001b[43m,\u001b[49m\u001b[43m \u001b[49m\u001b[43mmapper\u001b[49m\u001b[43m,\u001b[49m\u001b[43m \u001b[49m\u001b[43mconvert\u001b[49m\u001b[38;5;241;43m=\u001b[39;49m\u001b[43mconvert\u001b[49m\u001b[43m)\u001b[49m\n\u001b[1;32m   1744\u001b[0m \u001b[38;5;28;01melse\u001b[39;00m:\n\u001b[1;32m   1745\u001b[0m     \u001b[38;5;28;01mreturn\u001b[39;00m lib\u001b[38;5;241m.\u001b[39mmap_infer_mask(\n\u001b[1;32m   1746\u001b[0m         values, mapper, mask\u001b[38;5;241m=\u001b[39misna(values)\u001b[38;5;241m.\u001b[39mview(np\u001b[38;5;241m.\u001b[39muint8), convert\u001b[38;5;241m=\u001b[39mconvert\n\u001b[1;32m   1747\u001b[0m     )\n",
      "File \u001b[0;32mlib.pyx:2972\u001b[0m, in \u001b[0;36mpandas._libs.lib.map_infer\u001b[0;34m()\u001b[0m\n",
      "Cell \u001b[0;32mIn[29], line 2\u001b[0m, in \u001b[0;36mremove_punc\u001b[0;34m(text)\u001b[0m\n\u001b[1;32m      1\u001b[0m \u001b[38;5;28;01mdef\u001b[39;00m \u001b[38;5;21mremove_punc\u001b[39m(text):\n\u001b[0;32m----> 2\u001b[0m     punc \u001b[38;5;241m=\u001b[39m \u001b[43mstring\u001b[49m\u001b[38;5;241m.\u001b[39mpunctuation\n\u001b[1;32m      3\u001b[0m     clean_text \u001b[38;5;241m=\u001b[39m text\u001b[38;5;241m.\u001b[39mtranslate(\u001b[38;5;28mstr\u001b[39m\u001b[38;5;241m.\u001b[39mmaketrans(\u001b[38;5;124m'\u001b[39m\u001b[38;5;124m'\u001b[39m,\u001b[38;5;124m'\u001b[39m\u001b[38;5;124m'\u001b[39m, punc))\n\u001b[1;32m      4\u001b[0m     \u001b[38;5;28;01mreturn\u001b[39;00m clean_text\n",
      "\u001b[0;31mNameError\u001b[0m: name 'string' is not defined"
     ]
    }
   ],
   "source": [
    "def remove_punc(text):\n",
    "    punc = string.punctuation\n",
    "    clean_text = text.translate(str.maketrans('','', punc))\n",
    "    return clean_text\n",
    "\n",
    "df['content'] = df['content'].apply(remove_punc)\n",
    "df['content'].head(20)"
   ]
  },
  {
   "cell_type": "code",
   "execution_count": null,
   "id": "d29bdf4c",
   "metadata": {
    "execution": {
     "iopub.execute_input": "2024-07-30T21:16:21.799921Z",
     "iopub.status.busy": "2024-07-30T21:16:21.799377Z",
     "iopub.status.idle": "2024-07-30T21:16:21.870094Z",
     "shell.execute_reply": "2024-07-30T21:16:21.868792Z",
     "shell.execute_reply.started": "2024-07-30T21:16:21.799885Z"
    },
    "papermill": {
     "duration": null,
     "end_time": null,
     "exception": null,
     "start_time": null,
     "status": "pending"
    },
    "tags": []
   },
   "outputs": [],
   "source": [
    "chat_words_mapping = {\n",
    "    \"lol\": \"laughing out loud\",\n",
    "    \"brb\": \"be right back\",\n",
    "    \"btw\": \"by the way\",\n",
    "    \"afk\": \"away from keyboard\",\n",
    "    \"rofl\": \"rolling on the floor laughing\",\n",
    "    \"ttyl\": \"talk to you later\",\n",
    "    \"np\": \"no problem\",\n",
    "    \"thx\": \"thanks\",\n",
    "    \"omg\": \"oh my god\",\n",
    "    \"idk\": \"I don't know\",\n",
    "    \"np\": \"no problem\",\n",
    "    \"gg\": \"good game\",\n",
    "    \"g2g\": \"got to go\",\n",
    "    \"b4\": \"before\",\n",
    "    \"cu\": \"see you\",\n",
    "    \"yw\": \"you're welcome\",\n",
    "    \"wtf\": \"what the f*ck\",\n",
    "    \"imho\": \"in my humble opinion\",\n",
    "    \"jk\": \"just kidding\",\n",
    "    \"gf\": \"girlfriend\",\n",
    "    \"bf\": \"boyfriend\",    \"u\": \"you\",\n",
    "    \"r\": \"are\",\n",
    "    \"2\": \"to\",\n",
    "    \"4\": \"for\",\n",
    "    \"b\": \"be\",\n",
    "    \"c\": \"see\",\n",
    "    \"y\": \"why\",\n",
    "    \"tho\": \"though\",\n",
    "    \"smh\": \"shaking my head\",\n",
    "    \"lolz\": \"laughing out loud\",\n",
    "    \"h8\": \"hate\",\n",
    "    \"luv\": \"love\",\n",
    "    \"pls\": \"please\",\n",
    "    \"sry\": \"sorry\",\n",
    "    \"tbh\": \"to be honest\",\n",
    "    \"omw\": \"on my way\",\n",
    "    \"omw2syg\": \"on my way to see your girlfriend\",\n",
    "}\n",
    "\n",
    "def expand_chat_words(text):\n",
    "    words = text.split()\n",
    "    expanded_words = [chat_words_mapping.get(word.lower(), word) for word in words]\n",
    "    return ' '.join(expanded_words)\n",
    "\n",
    "df['content'] = df['content'].apply(expand_chat_words)\n",
    "df['content'].head(20)"
   ]
  },
  {
   "cell_type": "code",
   "execution_count": null,
   "id": "41cdde8c",
   "metadata": {
    "execution": {
     "iopub.execute_input": "2024-07-30T21:16:44.555265Z",
     "iopub.status.busy": "2024-07-30T21:16:44.554809Z",
     "iopub.status.idle": "2024-07-30T21:16:44.562112Z",
     "shell.execute_reply": "2024-07-30T21:16:44.560708Z",
     "shell.execute_reply.started": "2024-07-30T21:16:44.555231Z"
    },
    "papermill": {
     "duration": null,
     "end_time": null,
     "exception": null,
     "start_time": null,
     "status": "pending"
    },
    "tags": []
   },
   "outputs": [],
   "source": [
    "def remove_stop_words(text):\n",
    "    tokens = nltk.word_tokenize(text)\n",
    "    stop_words = set(stopwords.words('english'))\n",
    "    filtered_tokens = [token for token in tokens if token not in stop_words]\n",
    "    preprocessed_text = ''.join(filtered_tokens)\n",
    "    return preprocessed_text"
   ]
  },
  {
   "cell_type": "code",
   "execution_count": null,
   "id": "98fffdce",
   "metadata": {
    "execution": {
     "iopub.execute_input": "2024-07-30T21:16:56.619612Z",
     "iopub.status.busy": "2024-07-30T21:16:56.619170Z",
     "iopub.status.idle": "2024-07-30T21:16:59.998481Z",
     "shell.execute_reply": "2024-07-30T21:16:59.997221Z",
     "shell.execute_reply.started": "2024-07-30T21:16:56.619578Z"
    },
    "papermill": {
     "duration": null,
     "end_time": null,
     "exception": null,
     "start_time": null,
     "status": "pending"
    },
    "tags": []
   },
   "outputs": [],
   "source": [
    "df['content'] = df['content'].apply(remove_stop_words)\n",
    "df['content']"
   ]
  },
  {
   "cell_type": "code",
   "execution_count": null,
   "id": "049a93d8",
   "metadata": {
    "execution": {
     "iopub.execute_input": "2024-07-30T21:17:47.975692Z",
     "iopub.status.busy": "2024-07-30T21:17:47.975148Z",
     "iopub.status.idle": "2024-07-30T21:17:47.985548Z",
     "shell.execute_reply": "2024-07-30T21:17:47.983886Z",
     "shell.execute_reply.started": "2024-07-30T21:17:47.975655Z"
    },
    "papermill": {
     "duration": null,
     "end_time": null,
     "exception": null,
     "start_time": null,
     "status": "pending"
    },
    "tags": []
   },
   "outputs": [],
   "source": [
    "def replace_emojis_with_meanings(text):\n",
    "    def replace(match):\n",
    "        emoji_char = match.group()\n",
    "        emoji_meaning = emoji.demojize(emoji_char)\n",
    "        return emoji_meaning\n",
    "\n",
    "    emoji_pattern = re.compile(\"[\"\n",
    "                            u\"\\U0001F600-\\U0001F64F\"\n",
    "                            u\"\\U0001F300-\\U0001F5FF\"\n",
    "                            u\"\\U0001F680-\\U0001F6FF\"\n",
    "                            u\"\\U0001F1E0-\\U0001F1FF\"\n",
    "                            u\"\\U00002500-\\U00002BEF\"\n",
    "                            u\"\\U00002702-\\U000027B0\"\n",
    "                            u\"\\U00002702-\\U000027B0\"\n",
    "                            u\"\\U000024C2-\\U0001F251\"\n",
    "                            u\"\\U0001f926-\\U0001f937\"\n",
    "                            u\"\\U00010000-\\U0010ffff\"\n",
    "                            u\"\\u2640-\\u2642\"\n",
    "                            u\"\\u2600-\\u2B55\"\n",
    "                            u\"\\u200d\"\n",
    "                            u\"\\u23cf\"\n",
    "                            u\"\\u23e9\"\n",
    "                            u\"\\u231a\"\n",
    "                            u\"\\ufe0f\"\n",
    "                            u\"\\u3030\"\n",
    "                            \"]+\", flags=re.UNICODE)\n",
    "    text_with_meanings = emoji_pattern.sub(replace, text)\n",
    "    return text_with_meanings"
   ]
  },
  {
   "cell_type": "code",
   "execution_count": null,
   "id": "1d95d871",
   "metadata": {
    "execution": {
     "iopub.execute_input": "2024-07-30T21:17:56.963274Z",
     "iopub.status.busy": "2024-07-30T21:17:56.962757Z",
     "iopub.status.idle": "2024-07-30T21:17:57.072120Z",
     "shell.execute_reply": "2024-07-30T21:17:57.070998Z",
     "shell.execute_reply.started": "2024-07-30T21:17:56.963234Z"
    },
    "papermill": {
     "duration": null,
     "end_time": null,
     "exception": null,
     "start_time": null,
     "status": "pending"
    },
    "tags": []
   },
   "outputs": [],
   "source": [
    "df['content'] = df['content'].apply(replace_emojis_with_meanings)\n",
    "df['content']"
   ]
  },
  {
   "cell_type": "code",
   "execution_count": null,
   "id": "0615001e",
   "metadata": {
    "execution": {
     "iopub.execute_input": "2024-07-30T21:18:06.394207Z",
     "iopub.status.busy": "2024-07-30T21:18:06.393753Z",
     "iopub.status.idle": "2024-07-30T21:18:06.400222Z",
     "shell.execute_reply": "2024-07-30T21:18:06.398744Z",
     "shell.execute_reply.started": "2024-07-30T21:18:06.394173Z"
    },
    "papermill": {
     "duration": null,
     "end_time": null,
     "exception": null,
     "start_time": null,
     "status": "pending"
    },
    "tags": []
   },
   "outputs": [],
   "source": [
    "def word_tokenization(text):\n",
    "    return nltk.word_tokenize(text)"
   ]
  },
  {
   "cell_type": "code",
   "execution_count": null,
   "id": "f6668b7b",
   "metadata": {
    "execution": {
     "iopub.execute_input": "2024-07-30T21:18:14.445863Z",
     "iopub.status.busy": "2024-07-30T21:18:14.445399Z",
     "iopub.status.idle": "2024-07-30T21:18:16.474797Z",
     "shell.execute_reply": "2024-07-30T21:18:16.473569Z",
     "shell.execute_reply.started": "2024-07-30T21:18:14.445829Z"
    },
    "papermill": {
     "duration": null,
     "end_time": null,
     "exception": null,
     "start_time": null,
     "status": "pending"
    },
    "tags": []
   },
   "outputs": [],
   "source": [
    "df['token_content'] = df['content'].apply(word_tokenization)\n",
    "df['token_content']"
   ]
  },
  {
   "cell_type": "markdown",
   "id": "5966e84c",
   "metadata": {
    "papermill": {
     "duration": null,
     "end_time": null,
     "exception": null,
     "start_time": null,
     "status": "pending"
    },
    "tags": []
   },
   "source": [
    "#### *POS Taging*"
   ]
  },
  {
   "cell_type": "code",
   "execution_count": null,
   "id": "b6825a83",
   "metadata": {
    "execution": {
     "iopub.execute_input": "2024-07-30T21:19:26.411687Z",
     "iopub.status.busy": "2024-07-30T21:19:26.411234Z",
     "iopub.status.idle": "2024-07-30T21:19:34.212951Z",
     "shell.execute_reply": "2024-07-30T21:19:34.211693Z",
     "shell.execute_reply.started": "2024-07-30T21:19:26.411654Z"
    },
    "papermill": {
     "duration": null,
     "end_time": null,
     "exception": null,
     "start_time": null,
     "status": "pending"
    },
    "tags": []
   },
   "outputs": [],
   "source": [
    "nlp = spacy.load('en_core_web_sm', disable=['ner', 'textcat'])\n",
    "\n",
    "def batch_pos_tagging(texts):\n",
    "    docs = list(nlp.pipe(texts, batch_size=50))\n",
    "    return [[(token.text, token.pos_) for token in doc] for doc in docs]\n",
    "\n",
    "batch_size = 50\n",
    "num_batches = len(df) // batch_size + 1\n",
    "\n",
    "pos_tags = []\n",
    "for i in tqdm(range(num_batches)):\n",
    "    start = i * batch_size\n",
    "    end = start + batch_size\n",
    "    batch_texts = df['content'][start:end].tolist()\n",
    "    pos_tags.extend(batch_pos_tagging(batch_texts))\n",
    "\n",
    "df['POS_Tags'] = pos_tags"
   ]
  },
  {
   "cell_type": "code",
   "execution_count": null,
   "id": "19508988",
   "metadata": {
    "execution": {
     "iopub.execute_input": "2024-07-30T21:19:50.870394Z",
     "iopub.status.busy": "2024-07-30T21:19:50.869910Z",
     "iopub.status.idle": "2024-07-30T21:19:50.877162Z",
     "shell.execute_reply": "2024-07-30T21:19:50.875945Z",
     "shell.execute_reply.started": "2024-07-30T21:19:50.870347Z"
    },
    "papermill": {
     "duration": null,
     "end_time": null,
     "exception": null,
     "start_time": null,
     "status": "pending"
    },
    "tags": []
   },
   "outputs": [],
   "source": [
    "df.rename(columns={'POS_Tags': 'pos_tags'}, inplace=True)"
   ]
  },
  {
   "cell_type": "code",
   "execution_count": null,
   "id": "73215598",
   "metadata": {
    "execution": {
     "iopub.execute_input": "2024-07-30T21:20:00.693678Z",
     "iopub.status.busy": "2024-07-30T21:20:00.692746Z",
     "iopub.status.idle": "2024-07-30T21:20:00.710681Z",
     "shell.execute_reply": "2024-07-30T21:20:00.708918Z",
     "shell.execute_reply.started": "2024-07-30T21:20:00.693631Z"
    },
    "papermill": {
     "duration": null,
     "end_time": null,
     "exception": null,
     "start_time": null,
     "status": "pending"
    },
    "tags": []
   },
   "outputs": [],
   "source": [
    "df['pos_tags']"
   ]
  },
  {
   "cell_type": "code",
   "execution_count": null,
   "id": "f6657618",
   "metadata": {
    "execution": {
     "iopub.execute_input": "2024-07-30T21:20:15.306932Z",
     "iopub.status.busy": "2024-07-30T21:20:15.306331Z",
     "iopub.status.idle": "2024-07-30T21:20:15.363308Z",
     "shell.execute_reply": "2024-07-30T21:20:15.361592Z",
     "shell.execute_reply.started": "2024-07-30T21:20:15.306886Z"
    },
    "papermill": {
     "duration": null,
     "end_time": null,
     "exception": null,
     "start_time": null,
     "status": "pending"
    },
    "tags": []
   },
   "outputs": [],
   "source": [
    "df.head(20)"
   ]
  },
  {
   "cell_type": "markdown",
   "id": "98136a8a",
   "metadata": {
    "papermill": {
     "duration": null,
     "end_time": null,
     "exception": null,
     "start_time": null,
     "status": "pending"
    },
    "tags": []
   },
   "source": [
    "#### *Bag of Words*"
   ]
  },
  {
   "cell_type": "code",
   "execution_count": null,
   "id": "ac1d75be",
   "metadata": {
    "execution": {
     "iopub.execute_input": "2024-07-30T21:21:01.356091Z",
     "iopub.status.busy": "2024-07-30T21:21:01.355537Z",
     "iopub.status.idle": "2024-07-30T21:21:02.500031Z",
     "shell.execute_reply": "2024-07-30T21:21:02.498686Z",
     "shell.execute_reply.started": "2024-07-30T21:21:01.356049Z"
    },
    "papermill": {
     "duration": null,
     "end_time": null,
     "exception": null,
     "start_time": null,
     "status": "pending"
    },
    "tags": []
   },
   "outputs": [],
   "source": [
    "df['content'] = df['content'].apply(lambda x: ' '.join(x) \n",
    "                                    if isinstance(x, list) \n",
    "                                    else x)\n",
    "df['token_content'] = df['token_content'].apply(lambda x: ' '.join(x) \n",
    "                                                if isinstance(x, list) \n",
    "                                                else x)\n",
    "df['pos_tags'] = df['pos_tags'].apply(lambda x: ' '.join(str(i) for i in x) \n",
    "                                      if isinstance(x, list) \n",
    "                                      else x)\n",
    "\n",
    "vectorizer = CountVectorizer(ngram_range = (2,2))\n",
    "\n",
    "bow_c = vectorizer.fit_transform(df['content'])\n",
    "bow_t = vectorizer.fit_transform(df['token_content'])\n",
    "bow_p = vectorizer.fit_transform(df['pos_tags'])\n",
    "\n",
    "df['content'] = bow_c.toarray()\n",
    "df['token_content'] = bow_t.toarray()\n",
    "df['pos_tags'] = bow_p.toarray()"
   ]
  },
  {
   "cell_type": "code",
   "execution_count": null,
   "id": "35a53cad",
   "metadata": {
    "execution": {
     "iopub.execute_input": "2024-07-30T21:21:15.676405Z",
     "iopub.status.busy": "2024-07-30T21:21:15.675953Z",
     "iopub.status.idle": "2024-07-30T21:21:15.697245Z",
     "shell.execute_reply": "2024-07-30T21:21:15.695893Z",
     "shell.execute_reply.started": "2024-07-30T21:21:15.676368Z"
    },
    "papermill": {
     "duration": null,
     "end_time": null,
     "exception": null,
     "start_time": null,
     "status": "pending"
    },
    "tags": []
   },
   "outputs": [],
   "source": [
    "df.head(20)"
   ]
  },
  {
   "cell_type": "markdown",
   "id": "02d4a8ce",
   "metadata": {
    "papermill": {
     "duration": null,
     "end_time": null,
     "exception": null,
     "start_time": null,
     "status": "pending"
    },
    "tags": []
   },
   "source": [
    "#### *Train Test Split*"
   ]
  },
  {
   "cell_type": "code",
   "execution_count": null,
   "id": "f8277af1",
   "metadata": {
    "execution": {
     "iopub.execute_input": "2024-07-30T21:23:15.410974Z",
     "iopub.status.busy": "2024-07-30T21:23:15.409768Z",
     "iopub.status.idle": "2024-07-30T21:23:15.419589Z",
     "shell.execute_reply": "2024-07-30T21:23:15.417877Z",
     "shell.execute_reply.started": "2024-07-30T21:23:15.410934Z"
    },
    "papermill": {
     "duration": null,
     "end_time": null,
     "exception": null,
     "start_time": null,
     "status": "pending"
    },
    "tags": []
   },
   "outputs": [],
   "source": [
    "X = df.drop(columns=['score'])\n",
    "y = df['score']"
   ]
  },
  {
   "cell_type": "code",
   "execution_count": null,
   "id": "a17883fd",
   "metadata": {
    "execution": {
     "iopub.execute_input": "2024-07-30T21:24:03.896664Z",
     "iopub.status.busy": "2024-07-30T21:24:03.896205Z",
     "iopub.status.idle": "2024-07-30T21:24:03.909581Z",
     "shell.execute_reply": "2024-07-30T21:24:03.908083Z",
     "shell.execute_reply.started": "2024-07-30T21:24:03.896630Z"
    },
    "papermill": {
     "duration": null,
     "end_time": null,
     "exception": null,
     "start_time": null,
     "status": "pending"
    },
    "tags": []
   },
   "outputs": [],
   "source": [
    "X_train, X_test, y_train, y_test = train_test_split(X, y,\n",
    "                                                   test_size = 0.2,\n",
    "                                                   random_state = 42)"
   ]
  },
  {
   "cell_type": "markdown",
   "id": "38fe8de6",
   "metadata": {
    "papermill": {
     "duration": null,
     "end_time": null,
     "exception": null,
     "start_time": null,
     "status": "pending"
    },
    "tags": []
   },
   "source": [
    "#### *Decision Tree Classifier*"
   ]
  },
  {
   "cell_type": "code",
   "execution_count": null,
   "id": "15f713b0",
   "metadata": {
    "execution": {
     "iopub.execute_input": "2024-07-30T21:24:55.527821Z",
     "iopub.status.busy": "2024-07-30T21:24:55.527343Z",
     "iopub.status.idle": "2024-07-30T21:24:55.533736Z",
     "shell.execute_reply": "2024-07-30T21:24:55.532075Z",
     "shell.execute_reply.started": "2024-07-30T21:24:55.527766Z"
    },
    "papermill": {
     "duration": null,
     "end_time": null,
     "exception": null,
     "start_time": null,
     "status": "pending"
    },
    "tags": []
   },
   "outputs": [],
   "source": [
    "dt = DecisionTreeClassifier()"
   ]
  },
  {
   "cell_type": "code",
   "execution_count": null,
   "id": "501078c7",
   "metadata": {
    "execution": {
     "iopub.execute_input": "2024-07-30T21:25:19.315660Z",
     "iopub.status.busy": "2024-07-30T21:25:19.315231Z",
     "iopub.status.idle": "2024-07-30T21:25:19.343304Z",
     "shell.execute_reply": "2024-07-30T21:25:19.341652Z",
     "shell.execute_reply.started": "2024-07-30T21:25:19.315627Z"
    },
    "papermill": {
     "duration": null,
     "end_time": null,
     "exception": null,
     "start_time": null,
     "status": "pending"
    },
    "tags": []
   },
   "outputs": [],
   "source": [
    "dt.fit(X_train, y_train)"
   ]
  },
  {
   "cell_type": "code",
   "execution_count": null,
   "id": "d05cd8f0",
   "metadata": {
    "execution": {
     "iopub.execute_input": "2024-07-30T21:25:56.079054Z",
     "iopub.status.busy": "2024-07-30T21:25:56.078590Z",
     "iopub.status.idle": "2024-07-30T21:25:56.089160Z",
     "shell.execute_reply": "2024-07-30T21:25:56.087741Z",
     "shell.execute_reply.started": "2024-07-30T21:25:56.079019Z"
    },
    "papermill": {
     "duration": null,
     "end_time": null,
     "exception": null,
     "start_time": null,
     "status": "pending"
    },
    "tags": []
   },
   "outputs": [],
   "source": [
    "y_pred = (dt.predict(X_test))"
   ]
  },
  {
   "cell_type": "code",
   "execution_count": null,
   "id": "17e73327",
   "metadata": {
    "execution": {
     "iopub.execute_input": "2024-07-30T21:26:33.792671Z",
     "iopub.status.busy": "2024-07-30T21:26:33.791997Z",
     "iopub.status.idle": "2024-07-30T21:26:33.821653Z",
     "shell.execute_reply": "2024-07-30T21:26:33.819148Z",
     "shell.execute_reply.started": "2024-07-30T21:26:33.792619Z"
    },
    "papermill": {
     "duration": null,
     "end_time": null,
     "exception": null,
     "start_time": null,
     "status": "pending"
    },
    "tags": []
   },
   "outputs": [],
   "source": [
    "print(classification_report(y_test, y_pred, zero_division = 0))"
   ]
  },
  {
   "cell_type": "code",
   "execution_count": null,
   "id": "fd11b71d",
   "metadata": {
    "execution": {
     "iopub.execute_input": "2024-07-30T21:26:46.162988Z",
     "iopub.status.busy": "2024-07-30T21:26:46.162382Z",
     "iopub.status.idle": "2024-07-30T21:26:46.541922Z",
     "shell.execute_reply": "2024-07-30T21:26:46.540220Z",
     "shell.execute_reply.started": "2024-07-30T21:26:46.162944Z"
    },
    "papermill": {
     "duration": null,
     "end_time": null,
     "exception": null,
     "start_time": null,
     "status": "pending"
    },
    "tags": []
   },
   "outputs": [],
   "source": [
    "cm = confusion_matrix(y_test, y_pred)\n",
    "cm_display = ConfusionMatrixDisplay(confusion_matrix = cm)\n",
    "\n",
    "fig, ax = plt.subplots(figsize = (5,5))\n",
    "cm_display.plot(ax = ax)\n",
    "plt.title('Confusion Matrix')\n",
    "plt.show()"
   ]
  },
  {
   "cell_type": "markdown",
   "id": "2c01fc92",
   "metadata": {
    "papermill": {
     "duration": null,
     "end_time": null,
     "exception": null,
     "start_time": null,
     "status": "pending"
    },
    "tags": []
   },
   "source": [
    "#### *Random Forest Classifier*"
   ]
  },
  {
   "cell_type": "code",
   "execution_count": null,
   "id": "d61ea872",
   "metadata": {
    "execution": {
     "iopub.execute_input": "2024-07-30T21:27:39.691576Z",
     "iopub.status.busy": "2024-07-30T21:27:39.690620Z",
     "iopub.status.idle": "2024-07-30T21:27:39.697181Z",
     "shell.execute_reply": "2024-07-30T21:27:39.695764Z",
     "shell.execute_reply.started": "2024-07-30T21:27:39.691523Z"
    },
    "papermill": {
     "duration": null,
     "end_time": null,
     "exception": null,
     "start_time": null,
     "status": "pending"
    },
    "tags": []
   },
   "outputs": [],
   "source": [
    "rf = RandomForestClassifier()"
   ]
  },
  {
   "cell_type": "code",
   "execution_count": null,
   "id": "f4b33397",
   "metadata": {
    "execution": {
     "iopub.execute_input": "2024-07-30T21:27:54.776250Z",
     "iopub.status.busy": "2024-07-30T21:27:54.775772Z",
     "iopub.status.idle": "2024-07-30T21:27:55.404165Z",
     "shell.execute_reply": "2024-07-30T21:27:55.402945Z",
     "shell.execute_reply.started": "2024-07-30T21:27:54.776214Z"
    },
    "papermill": {
     "duration": null,
     "end_time": null,
     "exception": null,
     "start_time": null,
     "status": "pending"
    },
    "tags": []
   },
   "outputs": [],
   "source": [
    "rf.fit(X_train, y_train)"
   ]
  },
  {
   "cell_type": "code",
   "execution_count": null,
   "id": "14b8fa24",
   "metadata": {
    "execution": {
     "iopub.execute_input": "2024-07-30T21:28:10.822976Z",
     "iopub.status.busy": "2024-07-30T21:28:10.822464Z",
     "iopub.status.idle": "2024-07-30T21:28:10.870951Z",
     "shell.execute_reply": "2024-07-30T21:28:10.869502Z",
     "shell.execute_reply.started": "2024-07-30T21:28:10.822938Z"
    },
    "papermill": {
     "duration": null,
     "end_time": null,
     "exception": null,
     "start_time": null,
     "status": "pending"
    },
    "tags": []
   },
   "outputs": [],
   "source": [
    "y_pred = rf.predict(X_test)"
   ]
  },
  {
   "cell_type": "code",
   "execution_count": null,
   "id": "6a939856",
   "metadata": {
    "execution": {
     "iopub.execute_input": "2024-07-30T21:28:42.718054Z",
     "iopub.status.busy": "2024-07-30T21:28:42.717558Z",
     "iopub.status.idle": "2024-07-30T21:28:42.740487Z",
     "shell.execute_reply": "2024-07-30T21:28:42.738590Z",
     "shell.execute_reply.started": "2024-07-30T21:28:42.718017Z"
    },
    "papermill": {
     "duration": null,
     "end_time": null,
     "exception": null,
     "start_time": null,
     "status": "pending"
    },
    "tags": []
   },
   "outputs": [],
   "source": [
    "print(classification_report(y_test, y_pred, zero_division = 0))"
   ]
  },
  {
   "cell_type": "code",
   "execution_count": null,
   "id": "56a5faec",
   "metadata": {
    "execution": {
     "iopub.execute_input": "2024-07-30T21:28:57.421309Z",
     "iopub.status.busy": "2024-07-30T21:28:57.420905Z",
     "iopub.status.idle": "2024-07-30T21:28:57.823286Z",
     "shell.execute_reply": "2024-07-30T21:28:57.822053Z",
     "shell.execute_reply.started": "2024-07-30T21:28:57.421279Z"
    },
    "papermill": {
     "duration": null,
     "end_time": null,
     "exception": null,
     "start_time": null,
     "status": "pending"
    },
    "tags": []
   },
   "outputs": [],
   "source": [
    "cm1 = confusion_matrix(y_test, y_pred)\n",
    "cm1_display = ConfusionMatrixDisplay(confusion_matrix = cm1)\n",
    "\n",
    "fig, ax = plt.subplots(figsize = (5,5))\n",
    "cm1_display.plot(ax=ax)\n",
    "plt.title('Confusion Matrix')\n",
    "plt.show()"
   ]
  },
  {
   "cell_type": "markdown",
   "id": "8bb6845b",
   "metadata": {
    "papermill": {
     "duration": null,
     "end_time": null,
     "exception": null,
     "start_time": null,
     "status": "pending"
    },
    "tags": []
   },
   "source": [
    "#### *Support Vector Machines*"
   ]
  },
  {
   "cell_type": "code",
   "execution_count": null,
   "id": "6caa180f",
   "metadata": {
    "execution": {
     "iopub.execute_input": "2024-07-30T21:29:45.236289Z",
     "iopub.status.busy": "2024-07-30T21:29:45.235828Z",
     "iopub.status.idle": "2024-07-30T21:29:45.242605Z",
     "shell.execute_reply": "2024-07-30T21:29:45.240884Z",
     "shell.execute_reply.started": "2024-07-30T21:29:45.236255Z"
    },
    "papermill": {
     "duration": null,
     "end_time": null,
     "exception": null,
     "start_time": null,
     "status": "pending"
    },
    "tags": []
   },
   "outputs": [],
   "source": [
    "svm = SVC()"
   ]
  },
  {
   "cell_type": "code",
   "execution_count": null,
   "id": "f0dc2569",
   "metadata": {
    "execution": {
     "iopub.execute_input": "2024-07-30T21:30:01.691756Z",
     "iopub.status.busy": "2024-07-30T21:30:01.690637Z",
     "iopub.status.idle": "2024-07-30T21:30:02.835231Z",
     "shell.execute_reply": "2024-07-30T21:30:02.833824Z",
     "shell.execute_reply.started": "2024-07-30T21:30:01.691716Z"
    },
    "papermill": {
     "duration": null,
     "end_time": null,
     "exception": null,
     "start_time": null,
     "status": "pending"
    },
    "tags": []
   },
   "outputs": [],
   "source": [
    "svm.fit(X_train, y_train)"
   ]
  },
  {
   "cell_type": "code",
   "execution_count": null,
   "id": "2e57d687",
   "metadata": {
    "execution": {
     "iopub.execute_input": "2024-07-30T21:30:18.412443Z",
     "iopub.status.busy": "2024-07-30T21:30:18.412023Z",
     "iopub.status.idle": "2024-07-30T21:30:18.717792Z",
     "shell.execute_reply": "2024-07-30T21:30:18.715925Z",
     "shell.execute_reply.started": "2024-07-30T21:30:18.412412Z"
    },
    "papermill": {
     "duration": null,
     "end_time": null,
     "exception": null,
     "start_time": null,
     "status": "pending"
    },
    "tags": []
   },
   "outputs": [],
   "source": [
    "y_pred = svm.predict(X_test)"
   ]
  },
  {
   "cell_type": "code",
   "execution_count": null,
   "id": "5d12a6b7",
   "metadata": {
    "execution": {
     "iopub.execute_input": "2024-07-30T21:30:48.467037Z",
     "iopub.status.busy": "2024-07-30T21:30:48.466502Z",
     "iopub.status.idle": "2024-07-30T21:30:48.488580Z",
     "shell.execute_reply": "2024-07-30T21:30:48.486860Z",
     "shell.execute_reply.started": "2024-07-30T21:30:48.466996Z"
    },
    "papermill": {
     "duration": null,
     "end_time": null,
     "exception": null,
     "start_time": null,
     "status": "pending"
    },
    "tags": []
   },
   "outputs": [],
   "source": [
    "print(classification_report(y_test, y_pred, zero_division = 0))"
   ]
  },
  {
   "cell_type": "code",
   "execution_count": null,
   "id": "257ffaae",
   "metadata": {
    "execution": {
     "iopub.execute_input": "2024-07-30T21:31:01.236208Z",
     "iopub.status.busy": "2024-07-30T21:31:01.235622Z",
     "iopub.status.idle": "2024-07-30T21:31:01.651340Z",
     "shell.execute_reply": "2024-07-30T21:31:01.649875Z",
     "shell.execute_reply.started": "2024-07-30T21:31:01.236149Z"
    },
    "papermill": {
     "duration": null,
     "end_time": null,
     "exception": null,
     "start_time": null,
     "status": "pending"
    },
    "tags": []
   },
   "outputs": [],
   "source": [
    "cm2 = confusion_matrix(y_test, y_pred)\n",
    "cm2_display = ConfusionMatrixDisplay(confusion_matrix = cm2)\n",
    "\n",
    "fig, ax = plt.subplots(figsize = (5,5))\n",
    "cm2_display.plot(ax=ax)\n",
    "plt.title('Confusion Matrix')\n",
    "plt.show()"
   ]
  },
  {
   "cell_type": "markdown",
   "id": "a00cc7fa",
   "metadata": {
    "papermill": {
     "duration": null,
     "end_time": null,
     "exception": null,
     "start_time": null,
     "status": "pending"
    },
    "tags": []
   },
   "source": [
    "#### *KNN*"
   ]
  },
  {
   "cell_type": "code",
   "execution_count": null,
   "id": "77cf2dd3",
   "metadata": {
    "execution": {
     "iopub.execute_input": "2024-07-30T21:32:07.144605Z",
     "iopub.status.busy": "2024-07-30T21:32:07.143926Z",
     "iopub.status.idle": "2024-07-30T21:32:07.152909Z",
     "shell.execute_reply": "2024-07-30T21:32:07.150752Z",
     "shell.execute_reply.started": "2024-07-30T21:32:07.144553Z"
    },
    "papermill": {
     "duration": null,
     "end_time": null,
     "exception": null,
     "start_time": null,
     "status": "pending"
    },
    "tags": []
   },
   "outputs": [],
   "source": [
    "knn = KNeighborsClassifier(n_neighbors=3)"
   ]
  },
  {
   "cell_type": "code",
   "execution_count": null,
   "id": "94e0a756",
   "metadata": {
    "execution": {
     "iopub.execute_input": "2024-07-30T21:32:23.117908Z",
     "iopub.status.busy": "2024-07-30T21:32:23.117351Z",
     "iopub.status.idle": "2024-07-30T21:32:23.140091Z",
     "shell.execute_reply": "2024-07-30T21:32:23.138200Z",
     "shell.execute_reply.started": "2024-07-30T21:32:23.117857Z"
    },
    "papermill": {
     "duration": null,
     "end_time": null,
     "exception": null,
     "start_time": null,
     "status": "pending"
    },
    "tags": []
   },
   "outputs": [],
   "source": [
    "knn.fit(X_train, y_train)"
   ]
  },
  {
   "cell_type": "code",
   "execution_count": null,
   "id": "518e3b7d",
   "metadata": {
    "execution": {
     "iopub.execute_input": "2024-07-30T21:32:38.838868Z",
     "iopub.status.busy": "2024-07-30T21:32:38.838389Z",
     "iopub.status.idle": "2024-07-30T21:32:38.985462Z",
     "shell.execute_reply": "2024-07-30T21:32:38.984229Z",
     "shell.execute_reply.started": "2024-07-30T21:32:38.838832Z"
    },
    "papermill": {
     "duration": null,
     "end_time": null,
     "exception": null,
     "start_time": null,
     "status": "pending"
    },
    "tags": []
   },
   "outputs": [],
   "source": [
    "y_pred = knn.predict(X_test)"
   ]
  },
  {
   "cell_type": "code",
   "execution_count": null,
   "id": "2dbe4a29",
   "metadata": {
    "execution": {
     "iopub.execute_input": "2024-07-30T21:33:10.187037Z",
     "iopub.status.busy": "2024-07-30T21:33:10.186564Z",
     "iopub.status.idle": "2024-07-30T21:33:10.210132Z",
     "shell.execute_reply": "2024-07-30T21:33:10.208614Z",
     "shell.execute_reply.started": "2024-07-30T21:33:10.187001Z"
    },
    "papermill": {
     "duration": null,
     "end_time": null,
     "exception": null,
     "start_time": null,
     "status": "pending"
    },
    "tags": []
   },
   "outputs": [],
   "source": [
    "print(classification_report(y_test, y_pred, zero_division = 0))"
   ]
  },
  {
   "cell_type": "markdown",
   "id": "3e371e35",
   "metadata": {
    "papermill": {
     "duration": null,
     "end_time": null,
     "exception": null,
     "start_time": null,
     "status": "pending"
    },
    "tags": []
   },
   "source": [
    "#### *GridSearchCV for KNN*"
   ]
  },
  {
   "cell_type": "code",
   "execution_count": null,
   "id": "07c9cf9d",
   "metadata": {
    "execution": {
     "iopub.execute_input": "2024-07-30T21:33:44.732118Z",
     "iopub.status.busy": "2024-07-30T21:33:44.730818Z",
     "iopub.status.idle": "2024-07-30T21:33:44.738954Z",
     "shell.execute_reply": "2024-07-30T21:33:44.737417Z",
     "shell.execute_reply.started": "2024-07-30T21:33:44.732074Z"
    },
    "papermill": {
     "duration": null,
     "end_time": null,
     "exception": null,
     "start_time": null,
     "status": "pending"
    },
    "tags": []
   },
   "outputs": [],
   "source": [
    "param_grid = {'n_neighbors': [1, 3, 5, 7, 9, 12, 15, 25, 50, 75, 100]}"
   ]
  },
  {
   "cell_type": "code",
   "execution_count": null,
   "id": "874e7db2",
   "metadata": {
    "execution": {
     "iopub.execute_input": "2024-07-30T21:33:57.717854Z",
     "iopub.status.busy": "2024-07-30T21:33:57.717356Z",
     "iopub.status.idle": "2024-07-30T21:34:04.599198Z",
     "shell.execute_reply": "2024-07-30T21:34:04.597691Z",
     "shell.execute_reply.started": "2024-07-30T21:33:57.717810Z"
    },
    "papermill": {
     "duration": null,
     "end_time": null,
     "exception": null,
     "start_time": null,
     "status": "pending"
    },
    "tags": []
   },
   "outputs": [],
   "source": [
    "grid_search = GridSearchCV(knn, param_grid, cv=5, scoring='accuracy')\n",
    "grid_search.fit(X_train, y_train)"
   ]
  },
  {
   "cell_type": "code",
   "execution_count": null,
   "id": "472d1b85",
   "metadata": {
    "execution": {
     "iopub.execute_input": "2024-07-30T21:34:06.803616Z",
     "iopub.status.busy": "2024-07-30T21:34:06.803139Z",
     "iopub.status.idle": "2024-07-30T21:34:06.811555Z",
     "shell.execute_reply": "2024-07-30T21:34:06.809715Z",
     "shell.execute_reply.started": "2024-07-30T21:34:06.803580Z"
    },
    "papermill": {
     "duration": null,
     "end_time": null,
     "exception": null,
     "start_time": null,
     "status": "pending"
    },
    "tags": []
   },
   "outputs": [],
   "source": [
    "best_k = grid_search.best_params_['n_neighbors']\n",
    "print(\"Best k Value:\", best_k)"
   ]
  },
  {
   "cell_type": "code",
   "execution_count": null,
   "id": "13fda128",
   "metadata": {
    "execution": {
     "iopub.execute_input": "2024-07-30T21:34:19.808267Z",
     "iopub.status.busy": "2024-07-30T21:34:19.807798Z",
     "iopub.status.idle": "2024-07-30T21:34:19.814672Z",
     "shell.execute_reply": "2024-07-30T21:34:19.813329Z",
     "shell.execute_reply.started": "2024-07-30T21:34:19.808231Z"
    },
    "papermill": {
     "duration": null,
     "end_time": null,
     "exception": null,
     "start_time": null,
     "status": "pending"
    },
    "tags": []
   },
   "outputs": [],
   "source": [
    "knn1 = KNeighborsClassifier(n_neighbors=50)"
   ]
  },
  {
   "cell_type": "code",
   "execution_count": null,
   "id": "89765ab6",
   "metadata": {
    "execution": {
     "iopub.execute_input": "2024-07-30T21:34:27.963029Z",
     "iopub.status.busy": "2024-07-30T21:34:27.962602Z",
     "iopub.status.idle": "2024-07-30T21:34:27.983605Z",
     "shell.execute_reply": "2024-07-30T21:34:27.982026Z",
     "shell.execute_reply.started": "2024-07-30T21:34:27.962996Z"
    },
    "papermill": {
     "duration": null,
     "end_time": null,
     "exception": null,
     "start_time": null,
     "status": "pending"
    },
    "tags": []
   },
   "outputs": [],
   "source": [
    "knn1.fit(X_train, y_train)"
   ]
  },
  {
   "cell_type": "code",
   "execution_count": null,
   "id": "b09a1620",
   "metadata": {
    "execution": {
     "iopub.execute_input": "2024-07-30T21:34:36.504245Z",
     "iopub.status.busy": "2024-07-30T21:34:36.503110Z",
     "iopub.status.idle": "2024-07-30T21:34:36.673510Z",
     "shell.execute_reply": "2024-07-30T21:34:36.671653Z",
     "shell.execute_reply.started": "2024-07-30T21:34:36.504194Z"
    },
    "papermill": {
     "duration": null,
     "end_time": null,
     "exception": null,
     "start_time": null,
     "status": "pending"
    },
    "tags": []
   },
   "outputs": [],
   "source": [
    "y_pred1 = knn1.predict(X_test)"
   ]
  },
  {
   "cell_type": "code",
   "execution_count": null,
   "id": "028f9d66",
   "metadata": {
    "execution": {
     "iopub.execute_input": "2024-07-30T21:34:43.841398Z",
     "iopub.status.busy": "2024-07-30T21:34:43.840926Z",
     "iopub.status.idle": "2024-07-30T21:34:43.865980Z",
     "shell.execute_reply": "2024-07-30T21:34:43.864345Z",
     "shell.execute_reply.started": "2024-07-30T21:34:43.841363Z"
    },
    "papermill": {
     "duration": null,
     "end_time": null,
     "exception": null,
     "start_time": null,
     "status": "pending"
    },
    "tags": []
   },
   "outputs": [],
   "source": [
    "print(classification_report(y_test, y_pred1, zero_division=0))"
   ]
  }
 ],
 "metadata": {
  "kaggle": {
   "accelerator": "none",
   "dataSources": [
    {
     "datasetId": 4997049,
     "sourceId": 9069541,
     "sourceType": "datasetVersion"
    }
   ],
   "dockerImageVersionId": 30746,
   "isGpuEnabled": false,
   "isInternetEnabled": true,
   "language": "python",
   "sourceType": "notebook"
  },
  "kernelspec": {
   "display_name": "Python 3",
   "language": "python",
   "name": "python3"
  },
  "language_info": {
   "codemirror_mode": {
    "name": "ipython",
    "version": 3
   },
   "file_extension": ".py",
   "mimetype": "text/x-python",
   "name": "python",
   "nbconvert_exporter": "python",
   "pygments_lexer": "ipython3",
   "version": "3.10.13"
  },
  "papermill": {
   "default_parameters": {},
   "duration": 28.073586,
   "end_time": "2024-07-30T21:36:25.899119",
   "environment_variables": {},
   "exception": true,
   "input_path": "__notebook__.ipynb",
   "output_path": "__notebook__.ipynb",
   "parameters": {},
   "start_time": "2024-07-30T21:35:57.825533",
   "version": "2.5.0"
  }
 },
 "nbformat": 4,
 "nbformat_minor": 5
}
